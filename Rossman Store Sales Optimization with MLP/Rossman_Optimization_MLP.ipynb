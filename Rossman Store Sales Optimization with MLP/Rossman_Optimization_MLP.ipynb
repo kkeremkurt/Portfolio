{
 "cells": [
  {
   "cell_type": "markdown",
   "id": "64f01bec",
   "metadata": {},
   "source": [
    "# Rossman Store Sales Optimization"
   ]
  },
  {
   "cell_type": "code",
   "execution_count": 1,
   "id": "d007227a",
   "metadata": {},
   "outputs": [],
   "source": [
    "#Importing required packages\n",
    "import pandas as pd\n",
    "import numpy as np\n",
    "from sklearn.neural_network import MLPRegressor\n",
    "from sklearn.model_selection import train_test_split\n",
    "from sklearn.ensemble import RandomForestRegressor\n",
    "from sklearn.metrics import mean_squared_error, mean_absolute_error\n",
    "from sklearn.model_selection import GridSearchCV\n",
    "from sklearn.preprocessing import StandardScaler\n",
    "import matplotlib.pyplot as plt\n",
    "import seaborn as sns\n",
    "import random"
   ]
  },
  {
   "cell_type": "code",
   "execution_count": 4,
   "id": "2d614f55",
   "metadata": {},
   "outputs": [
    {
     "name": "stderr",
     "output_type": "stream",
     "text": [
      "C:\\Users\\kkere\\AppData\\Local\\Temp\\ipykernel_22864\\2598957197.py:2: DtypeWarning: Columns (7) have mixed types. Specify dtype option on import or set low_memory=False.\n",
      "  df = pd.read_csv('train.csv')\n"
     ]
    }
   ],
   "source": [
    "# Loading the data\n",
    "df = pd.read_csv('train.csv')"
   ]
  },
  {
   "cell_type": "code",
   "execution_count": 5,
   "id": "26dc55a7",
   "metadata": {},
   "outputs": [
    {
     "data": {
      "text/html": [
       "<div>\n",
       "<style scoped>\n",
       "    .dataframe tbody tr th:only-of-type {\n",
       "        vertical-align: middle;\n",
       "    }\n",
       "\n",
       "    .dataframe tbody tr th {\n",
       "        vertical-align: top;\n",
       "    }\n",
       "\n",
       "    .dataframe thead th {\n",
       "        text-align: right;\n",
       "    }\n",
       "</style>\n",
       "<table border=\"1\" class=\"dataframe\">\n",
       "  <thead>\n",
       "    <tr style=\"text-align: right;\">\n",
       "      <th></th>\n",
       "      <th>Store</th>\n",
       "      <th>DayOfWeek</th>\n",
       "      <th>Date</th>\n",
       "      <th>Sales</th>\n",
       "      <th>Customers</th>\n",
       "      <th>Open</th>\n",
       "      <th>Promo</th>\n",
       "      <th>StateHoliday</th>\n",
       "      <th>SchoolHoliday</th>\n",
       "    </tr>\n",
       "  </thead>\n",
       "  <tbody>\n",
       "    <tr>\n",
       "      <th>0</th>\n",
       "      <td>1</td>\n",
       "      <td>5</td>\n",
       "      <td>2015-07-31</td>\n",
       "      <td>5263</td>\n",
       "      <td>555</td>\n",
       "      <td>1</td>\n",
       "      <td>1</td>\n",
       "      <td>0</td>\n",
       "      <td>1</td>\n",
       "    </tr>\n",
       "    <tr>\n",
       "      <th>1</th>\n",
       "      <td>2</td>\n",
       "      <td>5</td>\n",
       "      <td>2015-07-31</td>\n",
       "      <td>6064</td>\n",
       "      <td>625</td>\n",
       "      <td>1</td>\n",
       "      <td>1</td>\n",
       "      <td>0</td>\n",
       "      <td>1</td>\n",
       "    </tr>\n",
       "    <tr>\n",
       "      <th>2</th>\n",
       "      <td>3</td>\n",
       "      <td>5</td>\n",
       "      <td>2015-07-31</td>\n",
       "      <td>8314</td>\n",
       "      <td>821</td>\n",
       "      <td>1</td>\n",
       "      <td>1</td>\n",
       "      <td>0</td>\n",
       "      <td>1</td>\n",
       "    </tr>\n",
       "    <tr>\n",
       "      <th>3</th>\n",
       "      <td>4</td>\n",
       "      <td>5</td>\n",
       "      <td>2015-07-31</td>\n",
       "      <td>13995</td>\n",
       "      <td>1498</td>\n",
       "      <td>1</td>\n",
       "      <td>1</td>\n",
       "      <td>0</td>\n",
       "      <td>1</td>\n",
       "    </tr>\n",
       "    <tr>\n",
       "      <th>4</th>\n",
       "      <td>5</td>\n",
       "      <td>5</td>\n",
       "      <td>2015-07-31</td>\n",
       "      <td>4822</td>\n",
       "      <td>559</td>\n",
       "      <td>1</td>\n",
       "      <td>1</td>\n",
       "      <td>0</td>\n",
       "      <td>1</td>\n",
       "    </tr>\n",
       "  </tbody>\n",
       "</table>\n",
       "</div>"
      ],
      "text/plain": [
       "   Store  DayOfWeek        Date  Sales  Customers  Open  Promo StateHoliday  \\\n",
       "0      1          5  2015-07-31   5263        555     1      1            0   \n",
       "1      2          5  2015-07-31   6064        625     1      1            0   \n",
       "2      3          5  2015-07-31   8314        821     1      1            0   \n",
       "3      4          5  2015-07-31  13995       1498     1      1            0   \n",
       "4      5          5  2015-07-31   4822        559     1      1            0   \n",
       "\n",
       "   SchoolHoliday  \n",
       "0              1  \n",
       "1              1  \n",
       "2              1  \n",
       "3              1  \n",
       "4              1  "
      ]
     },
     "execution_count": 5,
     "metadata": {},
     "output_type": "execute_result"
    }
   ],
   "source": [
    "df.head()"
   ]
  },
  {
   "cell_type": "code",
   "execution_count": 6,
   "id": "b02d6fd2",
   "metadata": {},
   "outputs": [
    {
     "data": {
      "text/plain": [
       "Store            0\n",
       "DayOfWeek        0\n",
       "Date             0\n",
       "Sales            0\n",
       "Customers        0\n",
       "Open             0\n",
       "Promo            0\n",
       "StateHoliday     0\n",
       "SchoolHoliday    0\n",
       "dtype: int64"
      ]
     },
     "execution_count": 6,
     "metadata": {},
     "output_type": "execute_result"
    }
   ],
   "source": [
    "#Checking for null values\n",
    "df.isnull().sum()"
   ]
  },
  {
   "cell_type": "code",
   "execution_count": 7,
   "id": "a5f721c2",
   "metadata": {},
   "outputs": [],
   "source": [
    "# Extract the day, month, and year from the 'Date' column\n",
    "df['Year'] = pd.DatetimeIndex(df['Date']).year\n",
    "df['Month'] = pd.DatetimeIndex(df['Date']).month"
   ]
  },
  {
   "cell_type": "code",
   "execution_count": 8,
   "id": "49e9c46d",
   "metadata": {},
   "outputs": [
    {
     "data": {
      "text/html": [
       "<div>\n",
       "<style scoped>\n",
       "    .dataframe tbody tr th:only-of-type {\n",
       "        vertical-align: middle;\n",
       "    }\n",
       "\n",
       "    .dataframe tbody tr th {\n",
       "        vertical-align: top;\n",
       "    }\n",
       "\n",
       "    .dataframe thead th {\n",
       "        text-align: right;\n",
       "    }\n",
       "</style>\n",
       "<table border=\"1\" class=\"dataframe\">\n",
       "  <thead>\n",
       "    <tr style=\"text-align: right;\">\n",
       "      <th></th>\n",
       "      <th>Store</th>\n",
       "      <th>DayOfWeek</th>\n",
       "      <th>Date</th>\n",
       "      <th>Sales</th>\n",
       "      <th>Customers</th>\n",
       "      <th>Open</th>\n",
       "      <th>Promo</th>\n",
       "      <th>StateHoliday</th>\n",
       "      <th>SchoolHoliday</th>\n",
       "      <th>Year</th>\n",
       "      <th>Month</th>\n",
       "    </tr>\n",
       "  </thead>\n",
       "  <tbody>\n",
       "    <tr>\n",
       "      <th>0</th>\n",
       "      <td>1</td>\n",
       "      <td>5</td>\n",
       "      <td>2015-07-31</td>\n",
       "      <td>5263</td>\n",
       "      <td>555</td>\n",
       "      <td>1</td>\n",
       "      <td>1</td>\n",
       "      <td>0</td>\n",
       "      <td>1</td>\n",
       "      <td>2015</td>\n",
       "      <td>7</td>\n",
       "    </tr>\n",
       "    <tr>\n",
       "      <th>1</th>\n",
       "      <td>2</td>\n",
       "      <td>5</td>\n",
       "      <td>2015-07-31</td>\n",
       "      <td>6064</td>\n",
       "      <td>625</td>\n",
       "      <td>1</td>\n",
       "      <td>1</td>\n",
       "      <td>0</td>\n",
       "      <td>1</td>\n",
       "      <td>2015</td>\n",
       "      <td>7</td>\n",
       "    </tr>\n",
       "    <tr>\n",
       "      <th>2</th>\n",
       "      <td>3</td>\n",
       "      <td>5</td>\n",
       "      <td>2015-07-31</td>\n",
       "      <td>8314</td>\n",
       "      <td>821</td>\n",
       "      <td>1</td>\n",
       "      <td>1</td>\n",
       "      <td>0</td>\n",
       "      <td>1</td>\n",
       "      <td>2015</td>\n",
       "      <td>7</td>\n",
       "    </tr>\n",
       "    <tr>\n",
       "      <th>3</th>\n",
       "      <td>4</td>\n",
       "      <td>5</td>\n",
       "      <td>2015-07-31</td>\n",
       "      <td>13995</td>\n",
       "      <td>1498</td>\n",
       "      <td>1</td>\n",
       "      <td>1</td>\n",
       "      <td>0</td>\n",
       "      <td>1</td>\n",
       "      <td>2015</td>\n",
       "      <td>7</td>\n",
       "    </tr>\n",
       "    <tr>\n",
       "      <th>4</th>\n",
       "      <td>5</td>\n",
       "      <td>5</td>\n",
       "      <td>2015-07-31</td>\n",
       "      <td>4822</td>\n",
       "      <td>559</td>\n",
       "      <td>1</td>\n",
       "      <td>1</td>\n",
       "      <td>0</td>\n",
       "      <td>1</td>\n",
       "      <td>2015</td>\n",
       "      <td>7</td>\n",
       "    </tr>\n",
       "    <tr>\n",
       "      <th>...</th>\n",
       "      <td>...</td>\n",
       "      <td>...</td>\n",
       "      <td>...</td>\n",
       "      <td>...</td>\n",
       "      <td>...</td>\n",
       "      <td>...</td>\n",
       "      <td>...</td>\n",
       "      <td>...</td>\n",
       "      <td>...</td>\n",
       "      <td>...</td>\n",
       "      <td>...</td>\n",
       "    </tr>\n",
       "    <tr>\n",
       "      <th>1017204</th>\n",
       "      <td>1111</td>\n",
       "      <td>2</td>\n",
       "      <td>2013-01-01</td>\n",
       "      <td>0</td>\n",
       "      <td>0</td>\n",
       "      <td>0</td>\n",
       "      <td>0</td>\n",
       "      <td>a</td>\n",
       "      <td>1</td>\n",
       "      <td>2013</td>\n",
       "      <td>1</td>\n",
       "    </tr>\n",
       "    <tr>\n",
       "      <th>1017205</th>\n",
       "      <td>1112</td>\n",
       "      <td>2</td>\n",
       "      <td>2013-01-01</td>\n",
       "      <td>0</td>\n",
       "      <td>0</td>\n",
       "      <td>0</td>\n",
       "      <td>0</td>\n",
       "      <td>a</td>\n",
       "      <td>1</td>\n",
       "      <td>2013</td>\n",
       "      <td>1</td>\n",
       "    </tr>\n",
       "    <tr>\n",
       "      <th>1017206</th>\n",
       "      <td>1113</td>\n",
       "      <td>2</td>\n",
       "      <td>2013-01-01</td>\n",
       "      <td>0</td>\n",
       "      <td>0</td>\n",
       "      <td>0</td>\n",
       "      <td>0</td>\n",
       "      <td>a</td>\n",
       "      <td>1</td>\n",
       "      <td>2013</td>\n",
       "      <td>1</td>\n",
       "    </tr>\n",
       "    <tr>\n",
       "      <th>1017207</th>\n",
       "      <td>1114</td>\n",
       "      <td>2</td>\n",
       "      <td>2013-01-01</td>\n",
       "      <td>0</td>\n",
       "      <td>0</td>\n",
       "      <td>0</td>\n",
       "      <td>0</td>\n",
       "      <td>a</td>\n",
       "      <td>1</td>\n",
       "      <td>2013</td>\n",
       "      <td>1</td>\n",
       "    </tr>\n",
       "    <tr>\n",
       "      <th>1017208</th>\n",
       "      <td>1115</td>\n",
       "      <td>2</td>\n",
       "      <td>2013-01-01</td>\n",
       "      <td>0</td>\n",
       "      <td>0</td>\n",
       "      <td>0</td>\n",
       "      <td>0</td>\n",
       "      <td>a</td>\n",
       "      <td>1</td>\n",
       "      <td>2013</td>\n",
       "      <td>1</td>\n",
       "    </tr>\n",
       "  </tbody>\n",
       "</table>\n",
       "<p>1017209 rows × 11 columns</p>\n",
       "</div>"
      ],
      "text/plain": [
       "         Store  DayOfWeek        Date  Sales  Customers  Open  Promo  \\\n",
       "0            1          5  2015-07-31   5263        555     1      1   \n",
       "1            2          5  2015-07-31   6064        625     1      1   \n",
       "2            3          5  2015-07-31   8314        821     1      1   \n",
       "3            4          5  2015-07-31  13995       1498     1      1   \n",
       "4            5          5  2015-07-31   4822        559     1      1   \n",
       "...        ...        ...         ...    ...        ...   ...    ...   \n",
       "1017204   1111          2  2013-01-01      0          0     0      0   \n",
       "1017205   1112          2  2013-01-01      0          0     0      0   \n",
       "1017206   1113          2  2013-01-01      0          0     0      0   \n",
       "1017207   1114          2  2013-01-01      0          0     0      0   \n",
       "1017208   1115          2  2013-01-01      0          0     0      0   \n",
       "\n",
       "        StateHoliday  SchoolHoliday  Year  Month  \n",
       "0                  0              1  2015      7  \n",
       "1                  0              1  2015      7  \n",
       "2                  0              1  2015      7  \n",
       "3                  0              1  2015      7  \n",
       "4                  0              1  2015      7  \n",
       "...              ...            ...   ...    ...  \n",
       "1017204            a              1  2013      1  \n",
       "1017205            a              1  2013      1  \n",
       "1017206            a              1  2013      1  \n",
       "1017207            a              1  2013      1  \n",
       "1017208            a              1  2013      1  \n",
       "\n",
       "[1017209 rows x 11 columns]"
      ]
     },
     "execution_count": 8,
     "metadata": {},
     "output_type": "execute_result"
    }
   ],
   "source": [
    "df"
   ]
  },
  {
   "cell_type": "code",
   "execution_count": 9,
   "id": "2ad5479a",
   "metadata": {},
   "outputs": [],
   "source": [
    "#Dropping 'Store' and 'Date'\n",
    "df = df.drop('Store', axis=1)\n",
    "df = df.drop('Date', axis=1)"
   ]
  },
  {
   "cell_type": "code",
   "execution_count": 10,
   "id": "cbff7766",
   "metadata": {},
   "outputs": [
    {
     "data": {
      "text/html": [
       "<div>\n",
       "<style scoped>\n",
       "    .dataframe tbody tr th:only-of-type {\n",
       "        vertical-align: middle;\n",
       "    }\n",
       "\n",
       "    .dataframe tbody tr th {\n",
       "        vertical-align: top;\n",
       "    }\n",
       "\n",
       "    .dataframe thead th {\n",
       "        text-align: right;\n",
       "    }\n",
       "</style>\n",
       "<table border=\"1\" class=\"dataframe\">\n",
       "  <thead>\n",
       "    <tr style=\"text-align: right;\">\n",
       "      <th></th>\n",
       "      <th>DayOfWeek</th>\n",
       "      <th>Sales</th>\n",
       "      <th>Customers</th>\n",
       "      <th>Open</th>\n",
       "      <th>Promo</th>\n",
       "      <th>StateHoliday</th>\n",
       "      <th>SchoolHoliday</th>\n",
       "      <th>Year</th>\n",
       "      <th>Month</th>\n",
       "    </tr>\n",
       "  </thead>\n",
       "  <tbody>\n",
       "    <tr>\n",
       "      <th>0</th>\n",
       "      <td>5</td>\n",
       "      <td>5263</td>\n",
       "      <td>555</td>\n",
       "      <td>1</td>\n",
       "      <td>1</td>\n",
       "      <td>0</td>\n",
       "      <td>1</td>\n",
       "      <td>2015</td>\n",
       "      <td>7</td>\n",
       "    </tr>\n",
       "    <tr>\n",
       "      <th>1</th>\n",
       "      <td>5</td>\n",
       "      <td>6064</td>\n",
       "      <td>625</td>\n",
       "      <td>1</td>\n",
       "      <td>1</td>\n",
       "      <td>0</td>\n",
       "      <td>1</td>\n",
       "      <td>2015</td>\n",
       "      <td>7</td>\n",
       "    </tr>\n",
       "    <tr>\n",
       "      <th>2</th>\n",
       "      <td>5</td>\n",
       "      <td>8314</td>\n",
       "      <td>821</td>\n",
       "      <td>1</td>\n",
       "      <td>1</td>\n",
       "      <td>0</td>\n",
       "      <td>1</td>\n",
       "      <td>2015</td>\n",
       "      <td>7</td>\n",
       "    </tr>\n",
       "    <tr>\n",
       "      <th>3</th>\n",
       "      <td>5</td>\n",
       "      <td>13995</td>\n",
       "      <td>1498</td>\n",
       "      <td>1</td>\n",
       "      <td>1</td>\n",
       "      <td>0</td>\n",
       "      <td>1</td>\n",
       "      <td>2015</td>\n",
       "      <td>7</td>\n",
       "    </tr>\n",
       "    <tr>\n",
       "      <th>4</th>\n",
       "      <td>5</td>\n",
       "      <td>4822</td>\n",
       "      <td>559</td>\n",
       "      <td>1</td>\n",
       "      <td>1</td>\n",
       "      <td>0</td>\n",
       "      <td>1</td>\n",
       "      <td>2015</td>\n",
       "      <td>7</td>\n",
       "    </tr>\n",
       "    <tr>\n",
       "      <th>...</th>\n",
       "      <td>...</td>\n",
       "      <td>...</td>\n",
       "      <td>...</td>\n",
       "      <td>...</td>\n",
       "      <td>...</td>\n",
       "      <td>...</td>\n",
       "      <td>...</td>\n",
       "      <td>...</td>\n",
       "      <td>...</td>\n",
       "    </tr>\n",
       "    <tr>\n",
       "      <th>1017204</th>\n",
       "      <td>2</td>\n",
       "      <td>0</td>\n",
       "      <td>0</td>\n",
       "      <td>0</td>\n",
       "      <td>0</td>\n",
       "      <td>a</td>\n",
       "      <td>1</td>\n",
       "      <td>2013</td>\n",
       "      <td>1</td>\n",
       "    </tr>\n",
       "    <tr>\n",
       "      <th>1017205</th>\n",
       "      <td>2</td>\n",
       "      <td>0</td>\n",
       "      <td>0</td>\n",
       "      <td>0</td>\n",
       "      <td>0</td>\n",
       "      <td>a</td>\n",
       "      <td>1</td>\n",
       "      <td>2013</td>\n",
       "      <td>1</td>\n",
       "    </tr>\n",
       "    <tr>\n",
       "      <th>1017206</th>\n",
       "      <td>2</td>\n",
       "      <td>0</td>\n",
       "      <td>0</td>\n",
       "      <td>0</td>\n",
       "      <td>0</td>\n",
       "      <td>a</td>\n",
       "      <td>1</td>\n",
       "      <td>2013</td>\n",
       "      <td>1</td>\n",
       "    </tr>\n",
       "    <tr>\n",
       "      <th>1017207</th>\n",
       "      <td>2</td>\n",
       "      <td>0</td>\n",
       "      <td>0</td>\n",
       "      <td>0</td>\n",
       "      <td>0</td>\n",
       "      <td>a</td>\n",
       "      <td>1</td>\n",
       "      <td>2013</td>\n",
       "      <td>1</td>\n",
       "    </tr>\n",
       "    <tr>\n",
       "      <th>1017208</th>\n",
       "      <td>2</td>\n",
       "      <td>0</td>\n",
       "      <td>0</td>\n",
       "      <td>0</td>\n",
       "      <td>0</td>\n",
       "      <td>a</td>\n",
       "      <td>1</td>\n",
       "      <td>2013</td>\n",
       "      <td>1</td>\n",
       "    </tr>\n",
       "  </tbody>\n",
       "</table>\n",
       "<p>1017209 rows × 9 columns</p>\n",
       "</div>"
      ],
      "text/plain": [
       "         DayOfWeek  Sales  Customers  Open  Promo StateHoliday  SchoolHoliday  \\\n",
       "0                5   5263        555     1      1            0              1   \n",
       "1                5   6064        625     1      1            0              1   \n",
       "2                5   8314        821     1      1            0              1   \n",
       "3                5  13995       1498     1      1            0              1   \n",
       "4                5   4822        559     1      1            0              1   \n",
       "...            ...    ...        ...   ...    ...          ...            ...   \n",
       "1017204          2      0          0     0      0            a              1   \n",
       "1017205          2      0          0     0      0            a              1   \n",
       "1017206          2      0          0     0      0            a              1   \n",
       "1017207          2      0          0     0      0            a              1   \n",
       "1017208          2      0          0     0      0            a              1   \n",
       "\n",
       "         Year  Month  \n",
       "0        2015      7  \n",
       "1        2015      7  \n",
       "2        2015      7  \n",
       "3        2015      7  \n",
       "4        2015      7  \n",
       "...       ...    ...  \n",
       "1017204  2013      1  \n",
       "1017205  2013      1  \n",
       "1017206  2013      1  \n",
       "1017207  2013      1  \n",
       "1017208  2013      1  \n",
       "\n",
       "[1017209 rows x 9 columns]"
      ]
     },
     "execution_count": 10,
     "metadata": {},
     "output_type": "execute_result"
    }
   ],
   "source": [
    "df"
   ]
  },
  {
   "cell_type": "code",
   "execution_count": 11,
   "id": "7d3d4cce",
   "metadata": {},
   "outputs": [],
   "source": [
    "# Converting categorical variables 'StateHoliday' into dummy variables\n",
    "df = pd.get_dummies(df, columns=['StateHoliday'], drop_first=True)"
   ]
  },
  {
   "cell_type": "markdown",
   "id": "0547b098",
   "metadata": {},
   "source": [
    "## Checking the correlation"
   ]
  },
  {
   "cell_type": "code",
   "execution_count": 28,
   "id": "20bdf243",
   "metadata": {},
   "outputs": [
    {
     "name": "stdout",
     "output_type": "stream",
     "text": [
      "                DayOfWeek     Sales  Customers      Open     Promo  \\\n",
      "Sales           -0.462125  1.000000   0.894711  0.678472  0.452345   \n",
      "Customers       -0.386445  0.894711   1.000000  0.616768  0.316169   \n",
      "Open            -0.528963  0.678472   0.616768  1.000000  0.295042   \n",
      "Promo           -0.392925  0.452345   0.316169  0.295042  1.000000   \n",
      "StateHoliday_0   0.029062  0.123160   0.099656  0.153969  0.007923   \n",
      "SchoolHoliday   -0.205388  0.085124   0.071568  0.086171  0.067483   \n",
      "Month           -0.005362  0.048768   0.038179 -0.000681 -0.011747   \n",
      "Year             0.001937  0.023519  -0.001212 -0.001009  0.024300   \n",
      "StateHoliday_c  -0.001345 -0.092618  -0.083007 -0.137685 -0.049964   \n",
      "StateHoliday_b  -0.040668 -0.117497  -0.104522 -0.175158  0.019847   \n",
      "StateHoliday_a  -0.040981 -0.203028  -0.180900 -0.302107 -0.004034   \n",
      "DayOfWeek        1.000000 -0.462125  -0.386445 -0.528963 -0.392925   \n",
      "\n",
      "                SchoolHoliday      Year     Month  StateHoliday_0  \\\n",
      "Sales                0.085124  0.023519  0.048768        0.123160   \n",
      "Customers            0.071568 -0.001212  0.038179        0.099656   \n",
      "Open                 0.086171 -0.001009 -0.000681        0.153969   \n",
      "Promo                0.067483  0.024300 -0.011747        0.007923   \n",
      "StateHoliday_0      -0.116647 -0.078799  0.077884        1.000000   \n",
      "SchoolHoliday        1.000000 -0.036535  0.103282       -0.116647   \n",
      "Month                0.103282 -0.269382  1.000000        0.077884   \n",
      "Year                -0.036535  1.000000 -0.269382       -0.078799   \n",
      "StateHoliday_c       0.136405 -0.030785  0.117688       -0.146099   \n",
      "StateHoliday_b       0.159098  0.017553 -0.049254       -0.186864   \n",
      "StateHoliday_a       0.029126  0.011285 -0.025852       -0.327392   \n",
      "DayOfWeek           -0.205388  0.001937 -0.005362        0.029062   \n",
      "\n",
      "                StateHoliday_a  StateHoliday_b  StateHoliday_c  \n",
      "Sales                -0.203028       -0.117497       -0.092618  \n",
      "Customers            -0.180900       -0.104522       -0.083007  \n",
      "Open                 -0.302107       -0.175158       -0.137685  \n",
      "Promo                -0.004034        0.019847       -0.049964  \n",
      "StateHoliday_0       -0.327392       -0.186864       -0.146099  \n",
      "SchoolHoliday         0.029126        0.159098        0.136405  \n",
      "Month                -0.025852       -0.049254        0.117688  \n",
      "Year                  0.011285        0.017553       -0.030785  \n",
      "StateHoliday_c       -0.009069       -0.005176        1.000000  \n",
      "StateHoliday_b       -0.011599        1.000000       -0.005176  \n",
      "StateHoliday_a        1.000000       -0.011599       -0.009069  \n",
      "DayOfWeek            -0.040981       -0.040668       -0.001345  \n"
     ]
    }
   ],
   "source": [
    "# Calculate the Pearson correlation matrix\n",
    "corr_matrix = df.corr()\n",
    "\n",
    "# Sort the values in the target column (Sales)\n",
    "corr_matrix.sort_values(\"Sales\", ascending=False, inplace=True)\n",
    "\n",
    "# Print the sorted correlation matrix\n",
    "print(corr_matrix)"
   ]
  },
  {
   "cell_type": "code",
   "execution_count": 35,
   "id": "79437eb2",
   "metadata": {},
   "outputs": [],
   "source": [
    "# Split the data into training and testing sets\n",
    "predictors = df.drop('Sales', axis=1)\n",
    "target = df['Sales']\n",
    "\n",
    "X_train, X_test, y_train, y_test = train_test_split(predictors, target, test_size=0.2)"
   ]
  },
  {
   "cell_type": "code",
   "execution_count": 36,
   "id": "a4a617a8",
   "metadata": {},
   "outputs": [],
   "source": [
    "#Scaling the data\n",
    "sc=StandardScaler()\n",
    "\n",
    "scaler = sc.fit(X_train)\n",
    "trainX_scaled = scaler.transform(X_train)\n",
    "testX_scaled = scaler.transform(X_test)"
   ]
  },
  {
   "cell_type": "markdown",
   "id": "2b495b55",
   "metadata": {},
   "source": [
    "## MLP Regressor"
   ]
  },
  {
   "cell_type": "code",
   "execution_count": 37,
   "id": "2774d964",
   "metadata": {},
   "outputs": [
    {
     "data": {
      "text/plain": [
       "MLPRegressor(hidden_layer_sizes=(10, 10, 10), max_iter=1000, random_state=0)"
      ]
     },
     "execution_count": 37,
     "metadata": {},
     "output_type": "execute_result"
    }
   ],
   "source": [
    "# Train the MLP Regressor model\n",
    "mlp = MLPRegressor(hidden_layer_sizes=(10,10,10), max_iter=1000, random_state = 0)\n",
    "mlp.fit(trainX_scaled, y_train)"
   ]
  },
  {
   "cell_type": "code",
   "execution_count": 41,
   "id": "27e1c2ab",
   "metadata": {},
   "outputs": [
    {
     "name": "stdout",
     "output_type": "stream",
     "text": [
      "MLP Regressor MSE: 1743288.3819121746\n",
      "MLP Regressor MAE: 872.2599196803241\n",
      "Mean of Sales for Test data: 5755.48\n",
      "Mean of Predictions: 5750.354407327698\n"
     ]
    }
   ],
   "source": [
    "#Testing MLP Regressor Accuracy\n",
    "mlp_regressor_predictions = mlp.predict(testX_scaled)\n",
    "mlp_mse = mean_squared_error(y_test, mlp_regressor_predictions)\n",
    "mlp_mae = mean_absolute_error(y_test, mlp_regressor_predictions)\n",
    "\n",
    "mean_sales = y_test.mean()\n",
    "\n",
    "print(f\"MLP Regressor MSE: {mlp_mse}\")\n",
    "print(f\"MLP Regressor MAE: {mlp_mae}\")\n",
    "print(f\"Mean of Sales for Test data: {mean_sales:.2f}\")\n",
    "print(\"Mean of Predictions:\", mlp_regressor_predictions.mean())"
   ]
  },
  {
   "cell_type": "code",
   "execution_count": 69,
   "id": "28b7ad6c",
   "metadata": {},
   "outputs": [
    {
     "name": "stdout",
     "output_type": "stream",
     "text": [
      "The most important feature is: Customers\n",
      "The optimal value is: 7388\n"
     ]
    }
   ],
   "source": [
    "#Finding the most important feature and its optimal value\n",
    "importances = mlp.coefs_[0].flatten()\n",
    "n_features = testX_scaled.shape[1]\n",
    "most_important_feature = predictors.columns[np.argmax(importances) % n_features]\n",
    "optimal_value = df[most_important_feature].max()\n",
    "print(\"The most important feature is:\", most_important_feature)\n",
    "print(\"The optimal value is:\", optimal_value)"
   ]
  },
  {
   "cell_type": "markdown",
   "id": "d2322d65",
   "metadata": {},
   "source": [
    "# Model Validation"
   ]
  },
  {
   "cell_type": "markdown",
   "id": "47fb09ac",
   "metadata": {},
   "source": [
    "### Checking Residuals"
   ]
  },
  {
   "cell_type": "code",
   "execution_count": 44,
   "id": "a1f187f3",
   "metadata": {},
   "outputs": [
    {
     "data": {
      "image/png": "[encoded data removed]",
      "text/plain": [
       "<Figure size 432x288 with 1 Axes>"
      ]
     },
     "metadata": {
      "needs_background": "light"
     },
     "output_type": "display_data"
    }
   ],
   "source": [
    "#Plotting the residuals\n",
    "residuals = y_test - mlp_regressor_predictions\n",
    "\n",
    "plt.scatter(mlp_regressor_predictions, residuals)\n",
    "plt.xlabel('Predicted values')\n",
    "plt.ylabel('Residuals')\n",
    "plt.axhline(y=0, color='red', linestyle='--')\n",
    "plt.title('Residual plot')\n",
    "plt.show()"
   ]
  },
  {
   "cell_type": "code",
   "execution_count": 48,
   "id": "1c412f72",
   "metadata": {},
   "outputs": [
    {
     "data": {
      "image/png": "[encoded data removed]",
      "text/plain": [
       "<Figure size 432x288 with 1 Axes>"
      ]
     },
     "metadata": {
      "needs_background": "light"
     },
     "output_type": "display_data"
    }
   ],
   "source": [
    "#Plotting the residuals\n",
    "plt.hist(residuals, bins=40, range=(-7500, 7000))\n",
    "plt.xlabel('Residual')\n",
    "plt.ylabel('Count')\n",
    "plt.title('Histogram of Residuals')\n",
    "plt.show()"
   ]
  },
  {
   "cell_type": "markdown",
   "id": "1cb7a7c4",
   "metadata": {},
   "source": [
    "### Residuals are close to a Normal Distribution."
   ]
  },
  {
   "cell_type": "code",
   "execution_count": 54,
   "id": "0da8e3ad",
   "metadata": {},
   "outputs": [
    {
     "name": "stdout",
     "output_type": "stream",
     "text": [
      "           predicted  actual\n",
      "596415  10767.868168    6083\n",
      "479017  14007.112252    5680\n",
      "247685  12034.209388    9019\n",
      "771228   6362.203463    9591\n",
      "873162   7986.512571   14826\n",
      "...              ...     ...\n",
      "874937   6491.525158    8745\n",
      "416566   6259.925300    8791\n",
      "638462  16032.909474    7426\n",
      "451142  13480.765817    6686\n",
      "124290   9705.155711    7011\n",
      "\n",
      "[20616 rows x 2 columns]\n"
     ]
    }
   ],
   "source": [
    "mask = (residuals > 2000) | (residuals < -2000)\n",
    "filtered_test_data = X_test[mask]\n",
    "\n",
    "# Get the predicted and actual sales values for the filtered test data\n",
    "filtered_predictions = mlp_regressor_predictions[mask]\n",
    "filtered_actual = y_test[mask]\n",
    "\n",
    "# Combine the filtered predictions and actual sales values into a DataFrame\n",
    "filtered_results = pd.DataFrame({'predicted': filtered_predictions, 'actual': filtered_actual})\n",
    "\n",
    "# Display the filtered results\n",
    "print(filtered_results)"
   ]
  },
  {
   "cell_type": "code",
   "execution_count": 56,
   "id": "6300aa82",
   "metadata": {},
   "outputs": [
    {
     "data": {
      "text/html": [
       "<div>\n",
       "<style scoped>\n",
       "    .dataframe tbody tr th:only-of-type {\n",
       "        vertical-align: middle;\n",
       "    }\n",
       "\n",
       "    .dataframe tbody tr th {\n",
       "        vertical-align: top;\n",
       "    }\n",
       "\n",
       "    .dataframe thead th {\n",
       "        text-align: right;\n",
       "    }\n",
       "</style>\n",
       "<table border=\"1\" class=\"dataframe\">\n",
       "  <thead>\n",
       "    <tr style=\"text-align: right;\">\n",
       "      <th></th>\n",
       "      <th>DayOfWeek</th>\n",
       "      <th>Customers</th>\n",
       "      <th>Open</th>\n",
       "      <th>Promo</th>\n",
       "      <th>SchoolHoliday</th>\n",
       "      <th>Year</th>\n",
       "      <th>Month</th>\n",
       "      <th>StateHoliday_0</th>\n",
       "      <th>StateHoliday_a</th>\n",
       "      <th>StateHoliday_b</th>\n",
       "      <th>StateHoliday_c</th>\n",
       "    </tr>\n",
       "  </thead>\n",
       "  <tbody>\n",
       "    <tr>\n",
       "      <th>596415</th>\n",
       "      <td>1</td>\n",
       "      <td>1548</td>\n",
       "      <td>1</td>\n",
       "      <td>0</td>\n",
       "      <td>0</td>\n",
       "      <td>2014</td>\n",
       "      <td>1</td>\n",
       "      <td>1</td>\n",
       "      <td>0</td>\n",
       "      <td>0</td>\n",
       "      <td>0</td>\n",
       "    </tr>\n",
       "    <tr>\n",
       "      <th>479017</th>\n",
       "      <td>1</td>\n",
       "      <td>1537</td>\n",
       "      <td>1</td>\n",
       "      <td>1</td>\n",
       "      <td>0</td>\n",
       "      <td>2014</td>\n",
       "      <td>4</td>\n",
       "      <td>1</td>\n",
       "      <td>0</td>\n",
       "      <td>0</td>\n",
       "      <td>0</td>\n",
       "    </tr>\n",
       "    <tr>\n",
       "      <th>247685</th>\n",
       "      <td>5</td>\n",
       "      <td>1221</td>\n",
       "      <td>1</td>\n",
       "      <td>1</td>\n",
       "      <td>0</td>\n",
       "      <td>2014</td>\n",
       "      <td>12</td>\n",
       "      <td>1</td>\n",
       "      <td>0</td>\n",
       "      <td>0</td>\n",
       "      <td>0</td>\n",
       "    </tr>\n",
       "    <tr>\n",
       "      <th>771228</th>\n",
       "      <td>5</td>\n",
       "      <td>743</td>\n",
       "      <td>1</td>\n",
       "      <td>0</td>\n",
       "      <td>1</td>\n",
       "      <td>2013</td>\n",
       "      <td>8</td>\n",
       "      <td>1</td>\n",
       "      <td>0</td>\n",
       "      <td>0</td>\n",
       "      <td>0</td>\n",
       "    </tr>\n",
       "    <tr>\n",
       "      <th>873162</th>\n",
       "      <td>5</td>\n",
       "      <td>1013</td>\n",
       "      <td>1</td>\n",
       "      <td>0</td>\n",
       "      <td>0</td>\n",
       "      <td>2013</td>\n",
       "      <td>5</td>\n",
       "      <td>1</td>\n",
       "      <td>0</td>\n",
       "      <td>0</td>\n",
       "      <td>0</td>\n",
       "    </tr>\n",
       "    <tr>\n",
       "      <th>...</th>\n",
       "      <td>...</td>\n",
       "      <td>...</td>\n",
       "      <td>...</td>\n",
       "      <td>...</td>\n",
       "      <td>...</td>\n",
       "      <td>...</td>\n",
       "      <td>...</td>\n",
       "      <td>...</td>\n",
       "      <td>...</td>\n",
       "      <td>...</td>\n",
       "      <td>...</td>\n",
       "    </tr>\n",
       "    <tr>\n",
       "      <th>874937</th>\n",
       "      <td>3</td>\n",
       "      <td>845</td>\n",
       "      <td>1</td>\n",
       "      <td>0</td>\n",
       "      <td>0</td>\n",
       "      <td>2013</td>\n",
       "      <td>5</td>\n",
       "      <td>1</td>\n",
       "      <td>0</td>\n",
       "      <td>0</td>\n",
       "      <td>0</td>\n",
       "    </tr>\n",
       "    <tr>\n",
       "      <th>416566</th>\n",
       "      <td>1</td>\n",
       "      <td>756</td>\n",
       "      <td>1</td>\n",
       "      <td>0</td>\n",
       "      <td>0</td>\n",
       "      <td>2014</td>\n",
       "      <td>6</td>\n",
       "      <td>1</td>\n",
       "      <td>0</td>\n",
       "      <td>0</td>\n",
       "      <td>0</td>\n",
       "    </tr>\n",
       "    <tr>\n",
       "      <th>638462</th>\n",
       "      <td>5</td>\n",
       "      <td>1838</td>\n",
       "      <td>1</td>\n",
       "      <td>1</td>\n",
       "      <td>0</td>\n",
       "      <td>2013</td>\n",
       "      <td>12</td>\n",
       "      <td>1</td>\n",
       "      <td>0</td>\n",
       "      <td>0</td>\n",
       "      <td>0</td>\n",
       "    </tr>\n",
       "    <tr>\n",
       "      <th>451142</th>\n",
       "      <td>5</td>\n",
       "      <td>1752</td>\n",
       "      <td>1</td>\n",
       "      <td>1</td>\n",
       "      <td>0</td>\n",
       "      <td>2014</td>\n",
       "      <td>5</td>\n",
       "      <td>1</td>\n",
       "      <td>0</td>\n",
       "      <td>0</td>\n",
       "      <td>0</td>\n",
       "    </tr>\n",
       "    <tr>\n",
       "      <th>124290</th>\n",
       "      <td>6</td>\n",
       "      <td>1172</td>\n",
       "      <td>1</td>\n",
       "      <td>0</td>\n",
       "      <td>0</td>\n",
       "      <td>2015</td>\n",
       "      <td>4</td>\n",
       "      <td>1</td>\n",
       "      <td>0</td>\n",
       "      <td>0</td>\n",
       "      <td>0</td>\n",
       "    </tr>\n",
       "  </tbody>\n",
       "</table>\n",
       "<p>20616 rows × 11 columns</p>\n",
       "</div>"
      ],
      "text/plain": [
       "        DayOfWeek  Customers  Open  Promo  SchoolHoliday  Year  Month  \\\n",
       "596415          1       1548     1      0              0  2014      1   \n",
       "479017          1       1537     1      1              0  2014      4   \n",
       "247685          5       1221     1      1              0  2014     12   \n",
       "771228          5        743     1      0              1  2013      8   \n",
       "873162          5       1013     1      0              0  2013      5   \n",
       "...           ...        ...   ...    ...            ...   ...    ...   \n",
       "874937          3        845     1      0              0  2013      5   \n",
       "416566          1        756     1      0              0  2014      6   \n",
       "638462          5       1838     1      1              0  2013     12   \n",
       "451142          5       1752     1      1              0  2014      5   \n",
       "124290          6       1172     1      0              0  2015      4   \n",
       "\n",
       "        StateHoliday_0  StateHoliday_a  StateHoliday_b  StateHoliday_c  \n",
       "596415               1               0               0               0  \n",
       "479017               1               0               0               0  \n",
       "247685               1               0               0               0  \n",
       "771228               1               0               0               0  \n",
       "873162               1               0               0               0  \n",
       "...                ...             ...             ...             ...  \n",
       "874937               1               0               0               0  \n",
       "416566               1               0               0               0  \n",
       "638462               1               0               0               0  \n",
       "451142               1               0               0               0  \n",
       "124290               1               0               0               0  \n",
       "\n",
       "[20616 rows x 11 columns]"
      ]
     },
     "execution_count": 56,
     "metadata": {},
     "output_type": "execute_result"
    }
   ],
   "source": [
    "filtered_test_data"
   ]
  },
  {
   "cell_type": "code",
   "execution_count": 68,
   "id": "d49c02f3",
   "metadata": {},
   "outputs": [
    {
     "data": {
      "image/png": "[encoded data removed]",
      "text/plain": [
       "<Figure size 432x288 with 1 Axes>"
      ]
     },
     "metadata": {
      "needs_background": "light"
     },
     "output_type": "display_data"
    }
   ],
   "source": [
    "# Create a data frame of residuals and categorical variable\n",
    "df_residuals = pd.DataFrame({'residuals': residuals, 'DayOfWeek': X_test['DayOfWeek']})\n",
    "\n",
    "# Group the data frame by the categorical variable\n",
    "grouped = df_residuals.groupby('DayOfWeek')\n",
    "\n",
    "# Calculate the absolute mean residual for each group\n",
    "mean_abs_residuals = grouped['residuals'].apply(lambda x: x.abs().mean())\n",
    "\n",
    "# Plot the absolute mean residuals for each group\n",
    "mean_abs_residuals.plot.bar()\n",
    "plt.xlabel('Categorical Variable')\n",
    "plt.ylabel('Absolute Mean Residual')\n",
    "plt.title('Absolute Mean Residual by DayOfWeek')\n",
    "plt.show()"
   ]
  },
  {
   "cell_type": "markdown",
   "id": "05e8487f",
   "metadata": {},
   "source": [
    "# Distributions of Sales for Optimization"
   ]
  },
  {
   "cell_type": "code",
   "execution_count": 78,
   "id": "ef232c29",
   "metadata": {},
   "outputs": [
    {
     "data": {
      "image/png": "[encoded data removed]",
      "text/plain": [
       "<Figure size 432x288 with 1 Axes>"
      ]
     },
     "metadata": {},
     "output_type": "display_data"
    }
   ],
   "source": [
    "#Distribution of Sales\n",
    "\n",
    "# Plot the distribution of Sales using a histogram\n",
    "plt.hist(df['Sales'], bins=50, color='blue', alpha=0.5)\n",
    "\n",
    "# Add labels and title to the plot\n",
    "plt.xlabel('Sales')\n",
    "plt.ylabel('Frequency')\n",
    "plt.title('Distribution of Sales')\n",
    "\n",
    "# Show the plot\n",
    "plt.show()"
   ]
  },
  {
   "cell_type": "code",
   "execution_count": 75,
   "id": "8ad61788",
   "metadata": {},
   "outputs": [
    {
     "data": {
      "image/png": "[encoded data removed]",
      "text/plain": [
       "<Figure size 1440x360 with 2 Axes>"
      ]
     },
     "metadata": {},
     "output_type": "display_data"
    }
   ],
   "source": [
    "#Distribution of Sales vs Promo\n",
    "\n",
    "sns.set(style=\"darkgrid\")\n",
    "\n",
    "fig, axs = plt.subplots(1, 2, figsize=(20, 5))\n",
    "for i, day in enumerate(df['Promo'].unique()):\n",
    "    sns.distplot(df[df['Promo'] == day]['Sales'], ax=axs[i], kde=False, rug=False)\n",
    "    axs[i].set_title(day)\n",
    "    axs[i].set_xlabel('Sales')\n",
    "    axs[i].set_ylabel('Frequency')\n",
    "\n",
    "plt.tight_layout()\n",
    "plt.show()"
   ]
  },
  {
   "cell_type": "markdown",
   "id": "ccc1a881",
   "metadata": {},
   "source": [
    "# <span style=\"color:red\">Method 1</span>"
   ]
  },
  {
   "cell_type": "markdown",
   "id": "3a54511e",
   "metadata": {},
   "source": [
    "## Promo vs StateHoliday"
   ]
  },
  {
   "cell_type": "code",
   "execution_count": 79,
   "id": "7b22eb5e",
   "metadata": {},
   "outputs": [
    {
     "data": {
      "image/png": "[encoded data removed]",
      "text/plain": [
       "<Figure size 1080x720 with 4 Axes>"
      ]
     },
     "metadata": {},
     "output_type": "display_data"
    }
   ],
   "source": [
    "#Sales distribution of StateHoliday when there is no promotion\n",
    "\n",
    "# Get the data where Promo = 0\n",
    "data_promo0 = df[df['Promo'] == 0]\n",
    "\n",
    "# Plot the distribution of Sales for each StateHoliday dummy variable\n",
    "fig, ax = plt.subplots(2, 2, figsize=(15, 10))\n",
    "ax = ax.ravel()\n",
    "for i, holiday in enumerate(['StateHoliday_0', 'StateHoliday_a', 'StateHoliday_b', 'StateHoliday_c']):\n",
    "    ax[i].hist(data_promo0.loc[data_promo0[holiday] == 1, 'Sales'], bins=20, color='blue', alpha=0.5, label=holiday)\n",
    "    ax[i].set_title(holiday)\n",
    "    ax[i].set_xlabel('Sales')\n",
    "    ax[i].set_ylabel('Counts')\n",
    "plt.tight_layout()\n",
    "plt.show()"
   ]
  },
  {
   "cell_type": "code",
   "execution_count": 81,
   "id": "9008f251",
   "metadata": {},
   "outputs": [
    {
     "data": {
      "image/png": "[encoded data removed]",
      "text/plain": [
       "<Figure size 1080x720 with 4 Axes>"
      ]
     },
     "metadata": {},
     "output_type": "display_data"
    }
   ],
   "source": [
    "#Sales distribution of StateHoliday when there is a promotion\n",
    "\n",
    "# Get the data where Promo = 1\n",
    "data_promo1 = df[df['Promo'] == 1]\n",
    "\n",
    "# Plot the distribution of Sales for each StateHoliday dummy variable\n",
    "fig, ax = plt.subplots(2, 2, figsize=(15, 10))\n",
    "ax = ax.ravel()\n",
    "for i, holiday in enumerate(['StateHoliday_0', 'StateHoliday_a', 'StateHoliday_b', 'StateHoliday_c']):\n",
    "    ax[i].hist(data_promo1.loc[data_promo1[holiday] == 1, 'Sales'], bins=20, color='blue', alpha=0.5, label=holiday)\n",
    "    ax[i].set_title(holiday)\n",
    "    ax[i].set_xlabel('Sales')\n",
    "    ax[i].set_ylabel('Counts')\n",
    "plt.tight_layout()\n",
    "plt.show()"
   ]
  },
  {
   "cell_type": "markdown",
   "id": "da29a0e1",
   "metadata": {},
   "source": [
    "### Approach\n",
    "#### 1- Counting the total number of promotions applied on StateHoliday = a, b, or c\n",
    "#### 2- Removing promotions for StateHoliday = a, b, or c\n",
    "#### 3- Applying promotions for StateHoliday = 0 randomly by the total amount calculated in Step 1"
   ]
  },
  {
   "cell_type": "code",
   "execution_count": 87,
   "id": "04b59c67",
   "metadata": {},
   "outputs": [],
   "source": [
    "# Count the number of lines where Promo = 1 and StateHoliday = a, b, or c\n",
    "total_number_promo = np.sum((X_test['Promo'] == 1) & ((X_test['StateHoliday_a'] == 1) | \n",
    "                                                      (X_test['StateHoliday_b'] == 1) | \n",
    "                                                      (X_test['StateHoliday_c'] == 1)))\n",
    "\n",
    "# Assign changes in X_test to a new variable\n",
    "X_test_modified = X_test.copy()\n",
    "\n",
    "# Change Promo = 1 to Promo = 0 where StateHoliday = a, b, or c\n",
    "X_test_modified.loc[(X_test['Promo'] == 1) & ((X_test['StateHoliday_a'] == 1) | \n",
    "                                              (X_test['StateHoliday_b'] == 1) | \n",
    "                                              (X_test['StateHoliday_c'] == 1)), 'Promo'] = 0"
   ]
  },
  {
   "cell_type": "code",
   "execution_count": 97,
   "id": "7ed61e31",
   "metadata": {},
   "outputs": [],
   "source": [
    "# Get the indices where Promo = 0 and StateHoliday_0 = 1\n",
    "promo_0_index = X_test_modified[(X_test_modified['Promo'] == 0) & (X_test_modified['StateHoliday_0'] == 1)].index\n",
    "\n",
    "# Randomly select `total_number_promo` indices from `promo_0_index`\n",
    "random_index = random.sample(list(promo_0_index), total_number_promo)\n",
    "\n",
    "# Create a new dataframe with the selected indices\n",
    "#X_test_revised = X_test.copy()\n",
    "X_test_modified.loc[random_index, 'Promo'] = 1"
   ]
  },
  {
   "cell_type": "markdown",
   "id": "49c338ff",
   "metadata": {},
   "source": [
    "### Comparison"
   ]
  },
  {
   "cell_type": "code",
   "execution_count": 99,
   "id": "664e8d1d",
   "metadata": {},
   "outputs": [],
   "source": [
    "#Scaling new test dataset before predictions\n",
    "\n",
    "sc=StandardScaler()\n",
    "\n",
    "new_testX_scaled = scaler.transform(X_test_modified)"
   ]
  },
  {
   "cell_type": "code",
   "execution_count": 104,
   "id": "9abd4c47",
   "metadata": {},
   "outputs": [
    {
     "name": "stdout",
     "output_type": "stream",
     "text": [
      "Mean of New Predictions: 5758.3074198832255\n",
      "Mean of First Predictions:  5750.354407327698\n"
     ]
    }
   ],
   "source": [
    "new_y_pred = mlp.predict(new_testX_scaled)\n",
    "print(\"Mean of First Predictions: \", mlp_regressor_predictions.mean())\n",
    "print(\"Mean of New Predictions:\", new_y_pred.mean())"
   ]
  },
  {
   "cell_type": "code",
   "execution_count": 110,
   "id": "ec8ca090",
   "metadata": {},
   "outputs": [
    {
     "name": "stdout",
     "output_type": "stream",
     "text": [
      "Median of y_test: 5731.0\n"
     ]
    },
    {
     "data": {
      "image/png": "[encoded data removed]",
      "text/plain": [
       "<Figure size 432x288 with 1 Axes>"
      ]
     },
     "metadata": {},
     "output_type": "display_data"
    }
   ],
   "source": [
    "median = np.median(y_test)\n",
    "print(\"Median of y_test:\", median)\n",
    "\n",
    "plt.hist(y_test, bins=50, color='blue', alpha=0.5)\n",
    "plt.xlabel(\"Sales\")\n",
    "plt.ylabel(\"Frequency\")\n",
    "plt.title(\"Distribution of Sales in Initial State\")\n",
    "plt.show()"
   ]
  },
  {
   "cell_type": "code",
   "execution_count": 109,
   "id": "627f7d1a",
   "metadata": {},
   "outputs": [
    {
     "name": "stdout",
     "output_type": "stream",
     "text": [
      "Median of y_test: 5906.944680587973\n"
     ]
    },
    {
     "data": {
      "image/png": "[encoded data removed]",
      "text/plain": [
       "<Figure size 432x288 with 1 Axes>"
      ]
     },
     "metadata": {},
     "output_type": "display_data"
    }
   ],
   "source": [
    "median = np.median(new_y_pred)\n",
    "print(\"Median of y_test:\", median)\n",
    "\n",
    "plt.hist(new_y_pred, bins=50, color='blue', alpha=0.5)\n",
    "plt.xlabel(\"Sales\")\n",
    "plt.ylabel(\"Frequency\")\n",
    "plt.title(\"Distribution of Sales after Changing Promotions\")\n",
    "plt.show()"
   ]
  },
  {
   "cell_type": "markdown",
   "id": "42f47b64",
   "metadata": {},
   "source": [
    "### 3% improvement after the implementation."
   ]
  },
  {
   "cell_type": "markdown",
   "id": "df83ddf6",
   "metadata": {},
   "source": [
    "# <span style=\"color:red\">Method 2</span>"
   ]
  },
  {
   "cell_type": "markdown",
   "id": "1a0b7949",
   "metadata": {},
   "source": [
    "## Promo vs DayOfWeek"
   ]
  },
  {
   "cell_type": "code",
   "execution_count": 85,
   "id": "45ae9606",
   "metadata": {},
   "outputs": [
    {
     "data": {
      "image/png": "[encoded data removed]",
      "text/plain": [
       "<Figure size 1080x360 with 7 Axes>"
      ]
     },
     "metadata": {},
     "output_type": "display_data"
    }
   ],
   "source": [
    "##Sales distribution of DayOfWeek when there is NO promotion\n",
    "\n",
    "# Create a list of days of the week\n",
    "days = data_promo0['DayOfWeek'].unique()\n",
    "\n",
    "# Create a figure with 7 subplots, one for each day of the week\n",
    "fig, axes = plt.subplots(nrows=1, ncols=7, figsize=(15,5))\n",
    "\n",
    "# Loop through each day of the week\n",
    "for i, day in enumerate(days):\n",
    "    # Filter data to only include instances for the current day\n",
    "    data_day = data_promo0[data_promo0['DayOfWeek'] == day]\n",
    "    \n",
    "    # Plot the distribution of Sales for the current day in the corresponding subplot\n",
    "    sns.histplot(data_day['Sales'], ax=axes[i])\n",
    "    \n",
    "    # Add a title to the subplot with the name of the current day\n",
    "    axes[i].set_title(day)\n",
    "    \n",
    "# Show the plot\n",
    "plt.show()"
   ]
  },
  {
   "cell_type": "code",
   "execution_count": 86,
   "id": "98df44ed",
   "metadata": {},
   "outputs": [
    {
     "data": {
      "image/png": "[encoded data removed]",
      "text/plain": [
       "<Figure size 1080x360 with 7 Axes>"
      ]
     },
     "metadata": {},
     "output_type": "display_data"
    }
   ],
   "source": [
    "##Sales distribution of DayOfWeek when there is A promotion\n",
    "\n",
    "# Create a figure with 7 subplots, one for each day of the week\n",
    "fig, axes = plt.subplots(nrows=1, ncols=7, figsize=(15,5))\n",
    "\n",
    "# Loop through each day of the week\n",
    "for i, day in enumerate(days):\n",
    "    # Filter data to only include instances for the current day\n",
    "    data_day = data_promo1[data_promo1['DayOfWeek'] == day]\n",
    "    \n",
    "    # Plot the distribution of Sales for the current day in the corresponding subplot\n",
    "    sns.histplot(data_day['Sales'], ax=axes[i])\n",
    "    \n",
    "    # Add a title to the subplot with the name of the current day\n",
    "    axes[i].set_title(day)\n",
    "    \n",
    "# Show the plot\n",
    "plt.show()"
   ]
  },
  {
   "cell_type": "markdown",
   "id": "dbaa7028",
   "metadata": {},
   "source": [
    "### Approach\n",
    "#### 1- Counting the total number of promotions applied on DayOfWeek = 5\n",
    "#### 2- Removing promotions for DayOfWeek = 5\n",
    "#### 3- Applying promotions for DayOfWeek = 1, 4 (least amount of sales) randomly by the total amount calculated in Step 1"
   ]
  },
  {
   "cell_type": "code",
   "execution_count": 114,
   "id": "a0dfa983",
   "metadata": {},
   "outputs": [],
   "source": [
    "# Count the number of lines where Promo = 1 and DayOfWeek = 5\n",
    "total_number_promo_2 = np.sum((X_test['Promo'] == 1) & ((X_test['DayOfWeek'] == 5)))\n",
    "\n",
    "# Assign changes in X_test to a new variable\n",
    "X_test_modified_2 = X_test.copy()\n",
    "\n",
    "# Change Promo = 1 to Promo = 0 where DayOfWeek = 5\n",
    "X_test_modified_2.loc[(X_test['Promo'] == 1) & ((X_test['DayOfWeek'] == 5)), 'Promo'] = 0"
   ]
  },
  {
   "cell_type": "code",
   "execution_count": 119,
   "id": "9daa6f94",
   "metadata": {},
   "outputs": [],
   "source": [
    "# Get the indices where Promo = 0 and DayOfWeek = 4, or 1\n",
    "promo_0_index_2 = X_test_modified_2[(X_test_modified_2['Promo'] == 0) & (X_test_modified_2['DayOfWeek'] == 4) | \n",
    "                                                      (X_test_modified_2['DayOfWeek'] == 1)].index\n",
    "\n",
    "# Randomly select `total_number_promo` indices from `promo_0_index`\n",
    "random_index_2 = random.sample(list(promo_0_index_2), total_number_promo_2)\n",
    "\n",
    "# Create a new dataframe with the selected indices\n",
    "X_test_modified_2.loc[random_index_2, 'Promo'] = 1"
   ]
  },
  {
   "cell_type": "markdown",
   "id": "a1db2899",
   "metadata": {},
   "source": [
    "### Comparison"
   ]
  },
  {
   "cell_type": "code",
   "execution_count": 120,
   "id": "2cd029be",
   "metadata": {},
   "outputs": [],
   "source": [
    "#Scaling new test dataset before predictions\n",
    "\n",
    "sc=StandardScaler()\n",
    "\n",
    "new_testX_scaled_2 = scaler.transform(X_test_modified_2)"
   ]
  },
  {
   "cell_type": "code",
   "execution_count": 121,
   "id": "658e80f3",
   "metadata": {},
   "outputs": [
    {
     "name": "stdout",
     "output_type": "stream",
     "text": [
      "Mean of First Predictions:  5750.354407327698\n",
      "Mean of New Predictions: 5752.072678653643\n"
     ]
    }
   ],
   "source": [
    "new_y_pred_2 = mlp.predict(new_testX_scaled_2)\n",
    "print(\"Mean of First Predictions: \", mlp_regressor_predictions.mean())\n",
    "print(\"Mean of New Predictions:\", new_y_pred_2.mean())"
   ]
  },
  {
   "cell_type": "code",
   "execution_count": 123,
   "id": "8c42dfb5",
   "metadata": {},
   "outputs": [
    {
     "name": "stdout",
     "output_type": "stream",
     "text": [
      "Median of y_test: 5731.0\n"
     ]
    },
    {
     "data": {
      "image/png": "[encoded data removed]",
      "text/plain": [
       "<Figure size 432x288 with 1 Axes>"
      ]
     },
     "metadata": {},
     "output_type": "display_data"
    }
   ],
   "source": [
    "median = np.median(y_test)\n",
    "print(\"Median of y_test:\", median)\n",
    "\n",
    "plt.hist(y_test, bins=50, color='blue', alpha=0.5)\n",
    "plt.xlabel(\"Sales\")\n",
    "plt.ylabel(\"Frequency\")\n",
    "plt.title(\"Distribution of Sales in Initial State\")\n",
    "plt.show()"
   ]
  },
  {
   "cell_type": "code",
   "execution_count": 122,
   "id": "2739f9ef",
   "metadata": {},
   "outputs": [
    {
     "name": "stdout",
     "output_type": "stream",
     "text": [
      "Median of y_test: 5901.512765856156\n"
     ]
    },
    {
     "data": {
      "image/png": "[encoded data removed]",
      "text/plain": [
       "<Figure size 432x288 with 1 Axes>"
      ]
     },
     "metadata": {},
     "output_type": "display_data"
    }
   ],
   "source": [
    "median = np.median(new_y_pred_2)\n",
    "print(\"Median of y_test:\", median)\n",
    "\n",
    "plt.hist(new_y_pred_2, bins=50, color='blue', alpha=0.5)\n",
    "plt.xlabel(\"Sales\")\n",
    "plt.ylabel(\"Frequency\")\n",
    "plt.title(\"Distribution of Sales after Changing Promotions\")\n",
    "plt.show()"
   ]
  },
  {
   "cell_type": "markdown",
   "id": "a45cdea5",
   "metadata": {},
   "source": [
    "### 3% improvement after the implementation."
   ]
  },
  {
   "cell_type": "markdown",
   "id": "44e58dbc",
   "metadata": {},
   "source": [
    "# <span style=\"color:red\">Method 3: Combining the methods</span>"
   ]
  },
  {
   "cell_type": "code",
   "execution_count": 124,
   "id": "c3aa9a2e",
   "metadata": {},
   "outputs": [],
   "source": [
    "# Count the number of lines where Promo = 1 and DayOfWeek = 5\n",
    "total_number_promo_3 = np.sum((X_test_modified['Promo'] == 1) & ((X_test_modified['DayOfWeek'] == 5)))\n",
    "\n",
    "# Assign changes in X_test to a new variable\n",
    "X_test_modified_3 = X_test_modified.copy()\n",
    "\n",
    "# Change Promo = 1 to Promo = 0 where DayOfWeek = 5\n",
    "X_test_modified_3.loc[(X_test_modified['Promo'] == 1) & ((X_test_modified['DayOfWeek'] == 5)), 'Promo'] = 0"
   ]
  },
  {
   "cell_type": "code",
   "execution_count": 125,
   "id": "e02b1854",
   "metadata": {},
   "outputs": [],
   "source": [
    "# Get the indices where Promo = 0 and DayOfWeek = 4, or 1\n",
    "promo_0_index_3 = X_test_modified_3[(X_test_modified_3['Promo'] == 0) & (X_test_modified_3['DayOfWeek'] == 4) | \n",
    "                                                      (X_test_modified_3['DayOfWeek'] == 1)].index\n",
    "\n",
    "# Randomly select `total_number_promo` indices from `promo_0_index`\n",
    "random_index_3 = random.sample(list(promo_0_index_3), total_number_promo_3)\n",
    "\n",
    "# Create a new dataframe with the selected indices\n",
    "X_test_modified_3.loc[random_index_3, 'Promo'] = 1"
   ]
  },
  {
   "cell_type": "markdown",
   "id": "07c78d97",
   "metadata": {},
   "source": [
    "### Comparison"
   ]
  },
  {
   "cell_type": "code",
   "execution_count": 126,
   "id": "1d7f0229",
   "metadata": {},
   "outputs": [],
   "source": [
    "#Scaling new test dataset before predictions\n",
    "\n",
    "sc=StandardScaler()\n",
    "\n",
    "new_testX_scaled_3 = scaler.transform(X_test_modified_3)"
   ]
  },
  {
   "cell_type": "code",
   "execution_count": 127,
   "id": "840cfab2",
   "metadata": {},
   "outputs": [
    {
     "name": "stdout",
     "output_type": "stream",
     "text": [
      "Mean of First Predictions:  5750.354407327698\n",
      "Mean of New Predictions: 5755.551896302632\n"
     ]
    }
   ],
   "source": [
    "new_y_pred_3 = mlp.predict(new_testX_scaled_3)\n",
    "print(\"Mean of First Predictions: \", mlp_regressor_predictions.mean())\n",
    "print(\"Mean of New Predictions:\", new_y_pred_3.mean())"
   ]
  },
  {
   "cell_type": "code",
   "execution_count": 128,
   "id": "62210be5",
   "metadata": {},
   "outputs": [
    {
     "name": "stdout",
     "output_type": "stream",
     "text": [
      "Median of y_test: 5903.289891445065\n"
     ]
    },
    {
     "data": {
      "image/png": "[encoded data removed]",
      "text/plain": [
       "<Figure size 432x288 with 1 Axes>"
      ]
     },
     "metadata": {},
     "output_type": "display_data"
    }
   ],
   "source": [
    "median = np.median(new_y_pred_3)\n",
    "print(\"Median of y_test:\", median)\n",
    "\n",
    "plt.hist(new_y_pred_3, bins=50, color='blue', alpha=0.5)\n",
    "plt.xlabel(\"Sales\")\n",
    "plt.ylabel(\"Frequency\")\n",
    "plt.title(\"Distribution of Sales after Changing Promotions\")\n",
    "plt.show()"
   ]
  },
  {
   "cell_type": "markdown",
   "id": "a2782781",
   "metadata": {},
   "source": [
    "## Applying two method at the same time <span style=\"color:red\">did not </span>improve the sales as expected. Applying first method (shifting promotions from holiday) gave a better result and should be implemented."
   ]
  },
  {
   "cell_type": "markdown",
   "id": "11ffab50",
   "metadata": {},
   "source": [
    "# "
   ]
  },
  {
   "cell_type": "markdown",
   "id": "8f715477",
   "metadata": {},
   "source": [
    "# Discussions and Recommendations\n",
    "**Assumptions:** It is assumed that running a promotion costs a certain amount for Rossman. However, since we don’t know how much it costs, the goal is selected as keeping the number of promotions the same while increasing the sales revenue.  \n",
    "- **Method 1.** Running promotions on public holidays, is not generating any significant revenue. Instead, those promotion budgets can be spent on non-holidays to boost sales. The total number of promotions is shifted from holidays randomly to regular days. A **3.05%** increase in sales is anticipated.\n",
    "\n",
    "- **Method 2.** It is observed that promotion on Fridays is not contributing as much as in that day’s total revenue. Therefore, promotion is shifted from Fridays to Mondays and Thursdays with the least sales. A **2.96%** increase in sales is anticipated.\n",
    "\n",
    "- **Method 3.** (Combination of Method 1 and 2). A **3%** increase in sales is anticipated.\n",
    "\n",
    "## Method 1: Shifting promotions from holidays to non-holidays yields the most significant outcome, resulting in a 3.05% anticipated growth in sales.\n",
    "\n"
   ]
  },
  {
   "cell_type": "markdown",
   "id": "78dd9bf2",
   "metadata": {},
   "source": [
    "# "
   ]
  },
  {
   "cell_type": "markdown",
   "id": "24ce2732",
   "metadata": {},
   "source": [
    "# Extra Coding for Testing #"
   ]
  },
  {
   "cell_type": "markdown",
   "id": "c98edf26",
   "metadata": {},
   "source": [
    "## MLP Regressor without Customers variable"
   ]
  },
  {
   "cell_type": "code",
   "execution_count": 30,
   "id": "985d3467",
   "metadata": {},
   "outputs": [],
   "source": [
    "#Dropping customers column\n",
    "# Split the data into training and testing sets\n",
    "predictors_c =predictors.drop('Customers', axis=1)\n",
    "\n",
    "X_train, X_test, y_train, y_test = train_test_split(predictors_c, target, test_size=0.2)"
   ]
  },
  {
   "cell_type": "code",
   "execution_count": 31,
   "id": "483f2be6",
   "metadata": {},
   "outputs": [],
   "source": [
    "#Scaling the data\n",
    "sc=StandardScaler()\n",
    "\n",
    "scaler = sc.fit(X_train)\n",
    "trainX_scaled = scaler.transform(X_train)\n",
    "testX_scaled = scaler.transform(X_test)"
   ]
  },
  {
   "cell_type": "code",
   "execution_count": 32,
   "id": "48850011",
   "metadata": {},
   "outputs": [
    {
     "data": {
      "text/plain": [
       "MLPRegressor(hidden_layer_sizes=(10, 10, 10), max_iter=1000, random_state=0)"
      ]
     },
     "execution_count": 32,
     "metadata": {},
     "output_type": "execute_result"
    }
   ],
   "source": [
    "# Train the MLP Regressor model\n",
    "mlp = MLPRegressor(hidden_layer_sizes=(10,10,10), max_iter=1000, random_state = 0)\n",
    "mlp.fit(trainX_scaled, y_train)"
   ]
  },
  {
   "cell_type": "code",
   "execution_count": 33,
   "id": "21d8167f",
   "metadata": {},
   "outputs": [
    {
     "name": "stdout",
     "output_type": "stream",
     "text": [
      "MLP Regressor MSE: 6335201.388452264\n",
      "MLP Regressor MAE: 1647.53589365737\n",
      "Mean of Sales for Test data: 5767.49\n"
     ]
    }
   ],
   "source": [
    "#Testing MLP Regressor Accuracy\n",
    "mlp_regressor_predictions = mlp.predict(testX_scaled)\n",
    "mlp_mse = mean_squared_error(y_test, mlp_regressor_predictions)\n",
    "mlp_mae = mean_absolute_error(y_test, mlp_regressor_predictions)\n",
    "\n",
    "mean_sales = y_test.mean()\n",
    "\n",
    "print(f\"MLP Regressor MSE: {mlp_mse}\")\n",
    "print(f\"MLP Regressor MAE: {mlp_mae}\")\n",
    "print(f\"Mean of Sales for Test data: {mean_sales:.2f}\")"
   ]
  },
  {
   "cell_type": "markdown",
   "id": "267396c7",
   "metadata": {},
   "source": [
    "### Predicting Sales without Customers variable resulted in a higher error rate."
   ]
  },
  {
   "cell_type": "markdown",
   "id": "312fcbc0",
   "metadata": {},
   "source": [
    "## Random Forest"
   ]
  },
  {
   "cell_type": "markdown",
   "id": "11c74655",
   "metadata": {},
   "source": [
    "### Random Forest algorithm ran as an alternative to MLP Regressor. However, MLP Regressor gave better prediction accuracy."
   ]
  },
  {
   "cell_type": "code",
   "execution_count": 130,
   "id": "6aeb3f0c",
   "metadata": {},
   "outputs": [
    {
     "name": "stdout",
     "output_type": "stream",
     "text": [
      "The most important feature affecting sales is: Customers\n"
     ]
    }
   ],
   "source": [
    "# Train the random forest regressor\n",
    "regr = RandomForestRegressor(random_state = 0)\n",
    "regr.fit(X_train, y_train)\n",
    "\n",
    "# Get feature importances\n",
    "importances = regr.feature_importances_\n",
    "n_features = X_train.shape[1]\n",
    "\n",
    "# Find the most important feature by taking the index of the maximum importance value\n",
    "most_important_feature_index = np.argmax(importances)\n",
    "most_important_feature = X_train.columns[most_important_feature_index % n_features]\n",
    "\n",
    "print(f\"The most important feature affecting sales is: {most_important_feature}\")"
   ]
  },
  {
   "cell_type": "code",
   "execution_count": 139,
   "id": "7d289c20",
   "metadata": {},
   "outputs": [
    {
     "name": "stdout",
     "output_type": "stream",
     "text": [
      "Random Forest Regressor MSE: 2174759.390585875\n",
      "Random Forest Regressor MAE: 973.3657227013346\n",
      "Mean of Sales for Test data: 5771.60\n"
     ]
    }
   ],
   "source": [
    "# Testing Random Forest Accuracy\n",
    "regr_predictions = regr.predict(X_test)\n",
    "rf_mse = mean_squared_error(y_test, regr_predictions)\n",
    "rf_mae = mean_absolute_error(y_test, regr_predictions)\n",
    "\n",
    "print(f\"Random Forest Regressor MSE: {rf_mse}\")\n",
    "print(f\"Random Forest Regressor MAE: {rf_mae}\")\n",
    "print(f\"Mean of Sales for Test data: {mean_sales:.2f}\")"
   ]
  },
  {
   "cell_type": "code",
   "execution_count": 119,
   "id": "4cf128ed",
   "metadata": {},
   "outputs": [
    {
     "name": "stdout",
     "output_type": "stream",
     "text": [
      "The top 3 most important features affecting sales are: ['Month', 'Promo', 'Customers']\n"
     ]
    }
   ],
   "source": [
    "top_k = min(3, X_train.shape[1])\n",
    "importances = rf.feature_importances_\n",
    "top_k_indices = np.argsort(importances)[-min(len(importances), top_k):]\n",
    "top_k_features = [X_train.columns[i] for i in top_k_indices]\n",
    "print(f\"The top {top_k} most important features affecting sales are: {top_k_features}\")"
   ]
  },
  {
   "cell_type": "code",
   "execution_count": 121,
   "id": "b1a1c540",
   "metadata": {},
   "outputs": [
    {
     "name": "stdout",
     "output_type": "stream",
     "text": [
      "The top 3 most important features affecting sales are: ['Month', 'Promo', 'Customers']\n"
     ]
    }
   ],
   "source": [
    "top_k = min(3, X_train.shape[1])\n",
    "top_k_indices = np.argsort(importances)[-top_k:]\n",
    "top_k_features = [X_train.columns[i] for i in top_k_indices]\n",
    "print(f\"The top {top_k} most important features affecting sales are: {top_k_features}\")"
   ]
  }
 ],
 "metadata": {
  "kernelspec": {
   "display_name": "Python 3 (ipykernel)",
   "language": "python",
   "name": "python3"
  },
  "language_info": {
   "codemirror_mode": {
    "name": "ipython",
    "version": 3
   },
   "file_extension": ".py",
   "mimetype": "text/x-python",
   "name": "python",
   "nbconvert_exporter": "python",
   "pygments_lexer": "ipython3",
   "version": "3.9.12"
  }
 },
 "nbformat": 4,
 "nbformat_minor": 5
}
