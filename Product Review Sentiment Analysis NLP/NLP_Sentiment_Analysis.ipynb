{
 "cells": [
  {
   "cell_type": "markdown",
   "id": "285edaf9",
   "metadata": {},
   "source": [
    "# Product Review Sentiment Analysis"
   ]
  },
  {
   "cell_type": "code",
   "execution_count": 1,
   "id": "57979b4c",
   "metadata": {},
   "outputs": [],
   "source": [
    "#Importing required packages\n",
    "import pandas as pd\n",
    "import numpy as np\n",
    "from sklearn.feature_extraction.text import CountVectorizer\n",
    "from sklearn.model_selection import train_test_split\n",
    "from sklearn.naive_bayes import MultinomialNB\n",
    "from sklearn.metrics import accuracy_score, classification_report\n",
    "\n",
    "import nltk\n",
    "from nltk.corpus import stopwords\n",
    "from nltk.stem import WordNetLemmatizer\n",
    "import string"
   ]
  },
  {
   "cell_type": "code",
   "execution_count": 94,
   "id": "2fab3a4f",
   "metadata": {},
   "outputs": [
    {
     "data": {
      "text/html": [
       "<div>\n",
       "<style scoped>\n",
       "    .dataframe tbody tr th:only-of-type {\n",
       "        vertical-align: middle;\n",
       "    }\n",
       "\n",
       "    .dataframe tbody tr th {\n",
       "        vertical-align: top;\n",
       "    }\n",
       "\n",
       "    .dataframe thead th {\n",
       "        text-align: right;\n",
       "    }\n",
       "</style>\n",
       "<table border=\"1\" class=\"dataframe\">\n",
       "  <thead>\n",
       "    <tr style=\"text-align: right;\">\n",
       "      <th></th>\n",
       "      <th>Product</th>\n",
       "      <th>Review</th>\n",
       "      <th>Sentiment</th>\n",
       "    </tr>\n",
       "  </thead>\n",
       "  <tbody>\n",
       "    <tr>\n",
       "      <th>0</th>\n",
       "      <td>Product 1</td>\n",
       "      <td>the speaker voice quality is terrible compare ...</td>\n",
       "      <td>0</td>\n",
       "    </tr>\n",
       "    <tr>\n",
       "      <th>1</th>\n",
       "      <td>Product 1</td>\n",
       "      <td>This kindle is light and easy to use especiall...</td>\n",
       "      <td>1</td>\n",
       "    </tr>\n",
       "    <tr>\n",
       "      <th>2</th>\n",
       "      <td>Product 1</td>\n",
       "      <td>Didnt know how much i'd use a kindle so went f...</td>\n",
       "      <td>1</td>\n",
       "    </tr>\n",
       "    <tr>\n",
       "      <th>3</th>\n",
       "      <td>Product 1</td>\n",
       "      <td>just okay! Product was for my girlfriend. Does...</td>\n",
       "      <td>0</td>\n",
       "    </tr>\n",
       "    <tr>\n",
       "      <th>4</th>\n",
       "      <td>Product 1</td>\n",
       "      <td>I do like the portability of my Tap. You do lo...</td>\n",
       "      <td>1</td>\n",
       "    </tr>\n",
       "  </tbody>\n",
       "</table>\n",
       "</div>"
      ],
      "text/plain": [
       "     Product                                             Review  Sentiment\n",
       "0  Product 1  the speaker voice quality is terrible compare ...          0\n",
       "1  Product 1  This kindle is light and easy to use especiall...          1\n",
       "2  Product 1  Didnt know how much i'd use a kindle so went f...          1\n",
       "3  Product 1  just okay! Product was for my girlfriend. Does...          0\n",
       "4  Product 1  I do like the portability of my Tap. You do lo...          1"
      ]
     },
     "execution_count": 94,
     "metadata": {},
     "output_type": "execute_result"
    }
   ],
   "source": [
    "# Loading the data\n",
    "df = pd.read_csv('Train.csv')\n",
    "df.head()"
   ]
  },
  {
   "cell_type": "markdown",
   "id": "5e0f5230",
   "metadata": {},
   "source": [
    "# Data Preprocessing"
   ]
  },
  {
   "cell_type": "code",
   "execution_count": 95,
   "id": "f636545d",
   "metadata": {},
   "outputs": [
    {
     "name": "stderr",
     "output_type": "stream",
     "text": [
      "[nltk_data] Downloading package stopwords to\n",
      "[nltk_data]     C:\\Users\\kkere\\AppData\\Roaming\\nltk_data...\n",
      "[nltk_data]   Package stopwords is already up-to-date!\n",
      "[nltk_data] Downloading package wordnet to\n",
      "[nltk_data]     C:\\Users\\kkere\\AppData\\Roaming\\nltk_data...\n",
      "[nltk_data]   Package wordnet is already up-to-date!\n",
      "[nltk_data] Downloading package punkt to\n",
      "[nltk_data]     C:\\Users\\kkere\\AppData\\Roaming\\nltk_data...\n",
      "[nltk_data]   Package punkt is already up-to-date!\n",
      "[nltk_data] Downloading package omw-1.4 to\n",
      "[nltk_data]     C:\\Users\\kkere\\AppData\\Roaming\\nltk_data...\n",
      "[nltk_data]   Package omw-1.4 is already up-to-date!\n"
     ]
    },
    {
     "data": {
      "text/plain": [
       "True"
      ]
     },
     "execution_count": 95,
     "metadata": {},
     "output_type": "execute_result"
    }
   ],
   "source": [
    "# Downloading stopwords and lemmatizer data\n",
    "nltk.download('stopwords')\n",
    "nltk.download('wordnet')\n",
    "nltk.download('punkt')\n",
    "nltk.download('omw-1.4')"
   ]
  },
  {
   "cell_type": "code",
   "execution_count": 96,
   "id": "a08661e0",
   "metadata": {},
   "outputs": [],
   "source": [
    "# Initializing stopwords and lemmatizer objects\n",
    "stop_words = set(stopwords.words('english'))\n",
    "lemmatizer = WordNetLemmatizer()"
   ]
  },
  {
   "cell_type": "code",
   "execution_count": 97,
   "id": "f622a8b4",
   "metadata": {},
   "outputs": [],
   "source": [
    "# Defining a function to preprocess text\n",
    "def preprocess_text(text):\n",
    "    # Convert text to lowercase\n",
    "    text = text.lower()\n",
    "    \n",
    "    # Remove punctuation\n",
    "    text = text.translate(str.maketrans('', '', string.punctuation))\n",
    "    \n",
    "    # Tokenize the text into individual words\n",
    "    words = nltk.word_tokenize(text)\n",
    "    \n",
    "    # Remove stop words and lemmatize the remaining words\n",
    "    words = [lemmatizer.lemmatize(word) for word in words if word not in stop_words]\n",
    "    \n",
    "    # Join the words back into a string\n",
    "    text = ' '.join(words)\n",
    "    \n",
    "    return text"
   ]
  },
  {
   "cell_type": "code",
   "execution_count": 98,
   "id": "af633b2a",
   "metadata": {},
   "outputs": [],
   "source": [
    "# Preprocessing the dataset for the review column \n",
    "preprocessed_df = df['Review'].apply(preprocess_text)"
   ]
  },
  {
   "cell_type": "markdown",
   "id": "8b08f67b",
   "metadata": {},
   "source": [
    "# Feature extraction (Bag-of-words)"
   ]
  },
  {
   "cell_type": "code",
   "execution_count": 118,
   "id": "04e442d6",
   "metadata": {},
   "outputs": [],
   "source": [
    "# Initialize the CountVectorizer object\n",
    "vectorizer = CountVectorizer()\n",
    "\n",
    "# Convert the preprocessed text into a bag-of-words matrix\n",
    "X = vectorizer.fit_transform(preprocessed_df)"
   ]
  },
  {
   "cell_type": "code",
   "execution_count": 119,
   "id": "a7a8373d",
   "metadata": {},
   "outputs": [
    {
     "name": "stdout",
     "output_type": "stream",
     "text": [
      "{'speaker': 1464, 'voice': 1696, 'quality': 1227, 'terrible': 1570, 'compare': 340, 'similar': 1411, 'size': 1421, 'logitech': 912, 'ue': 1651, 'boomthe': 224, 'price': 1188, 'high': 731, 'even': 539, 'got': 682, 'promotion': 1207, '79': 41, 'kindle': 839, 'light': 884, 'easy': 493, 'use': 1672, 'especially': 537, 'beach': 190, 'didnt': 438, 'know': 845, 'much': 1002, 'id': 762, 'went': 1729, 'lower': 934, 'end': 515, 'im': 768, 'happy': 706, 'little': 901, 'dark': 405, 'okay': 1061, 'product': 1202, 'girlfriend': 665, 'doesnt': 459, 'appear': 127, 'us': 1670, 'except': 550, 'steam': 1489, 'music': 1005, 'question': 1230, 'ask': 141, 'get': 659, 'nothing': 1041, 'like': 890, 'siri': 1416, 'better': 205, 'portability': 1172, 'tap': 1555, 'lose': 923, 'feature': 588, 'echo': 496, 'speaking': 1465, 'across': 55, 'room': 1331, 'good': 677, 'sound': 1459, 'great': 688, 'take': 1548, 'pool': 1167, 'hard': 708, 'support': 1525, 'guam': 693, 'online': 1067, 'instruction': 797, 'clear': 313, 'thing': 1585, 'cool': 376, 'new': 1023, 'muti': 1007, 'option': 1078, 'song': 1451, 'playing': 1155, 'mention': 965, 'intercom': 800, 'item': 814, 'concept': 352, 'love': 930, 'portable': 1173, 'one': 1066, 'however': 756, 'pretty': 1184, 'bass': 184, 'scratchy': 1359, 'poor': 1168, 'execution': 555, 'sounding': 1460, 'bluetooth': 216, 'alexa': 90, 'listen': 898, 'book': 219, 'available': 158, 'audio': 152, 'otherwise': 1087, 'shes': 1399, 'useless': 1676, 'come': 330, 'answering': 117, 'hour': 752, 'battery': 186, 'excellent': 549, 'made': 941, 'fun': 647, 'would': 1765, 'buy': 259, 'informative': 789, 'keep': 828, 'say': 1353, 'understand': 1654, 'device': 434, 'versatile': 1685, 'control': 372, 'last': 855, 'christmas': 305, 'gave': 653, 'nephew': 1019, 'fire': 609, 'stick': 1494, 'loved': 931, 'meantime': 959, 'purchased': 1221, 'amazon': 106, 'since': 1414, 'gadget': 650, 'knew': 844, 'want': 1706, 'listening': 899, 'prime': 1193, 'quick': 1231, 'weather': 1719, 'report': 1299, 'volume': 1697, 'adjusts': 74, 'quickly': 1233, 'give': 666, 'status': 1488, 'request': 1303, 'satisfied': 1347, 'loses': 924, 'connection': 359, 'matter': 954, 'phone': 1137, 'either': 504, 'iphone': 810, 'android': 111, 'enjoying': 522, 'asking': 143, 'small': 1433, 'form': 630, 'factor': 572, 'make': 947, 'along': 97, 'traveling': 1631, 'decent': 416, 'life': 883, 'reason': 1255, 'star': 1482, 'difficulty': 443, 'connecting': 358, 'public': 1218, 'wifi': 1738, 'hotel': 751, 'situationtakes': 1419, 'effort': 503, 'day': 409, 'whether': 1730, 'spotify': 1474, 'turning': 1646, 'wemodevice': 1728, 'recognition': 1266, 'gift': 661, 'family': 578, 'choice': 302, 'worst': 1760, 'ever': 541, 'unfortunately': 1656, 'damage': 404, 'packaging': 1103, 'pricey': 1190, 'yes': 1777, 'serious': 1387, 'reader': 1244, 'user': 1677, 'library': 882, 'ebooks': 495, 'completly': 347, 'worth': 1761, 'beat': 191, 'real': 1251, 'experience': 563, 'plus': 1162, 'per': 1124, 'week': 1722, 'ability': 49, 'add': 65, 'fly': 623, 'never': 1022, 'seek': 1371, 'read': 1242, 'noticeable': 1042, 'improvement': 779, 'backlight': 169, 'exceptional': 552, 'direct': 447, 'sun': 1521, 'readability': 1243, 'affected': 81, 'polarized': 1166, 'sunglass': 1522, 'build': 248, 'expect': 557, 'long': 915, 'time': 1602, 'upgraded': 1667, 'lost': 925, 'train': 1628, 'purchase': 1220, 'wife': 1737, 'work': 1752, 'well': 1727, 'think': 1586, 'version': 1687, 'expensive': 562, 'difference': 439, 'cover': 386, 'previous': 1186, 'big': 208, 'tech': 1560, 'heaven': 721, 'sky': 1426, 'couldnt': 381, 'happier': 705, 'paperwhite': 1111, 'friend': 639, 'bought': 228, 'voyage': 1698, 'clearness': 315, 'screen': 1360, 'turn': 1644, 'page': 1106, 'dont': 463, 'really': 1253, 'extra': 566, 'cost': 378, 'compared': 341, 'came': 266, '300': 24, 'dpi': 473, 'boy': 230, 'huge': 757, 'selection': 1376, 'recomend': 1267, 'seller': 1379, 'responsive': 1315, 'boyfriend': 231, 'absolutely': 51, 'reading': 1246, 'held': 724, 'believe': 199, 'lightweight': 888, 'back': 167, 'lighting': 887, 'bc': 189, 'lighter': 885, 'smaller': 1434, 'easier': 491, 'tuck': 1643, 'purse': 1223, 'auto': 154, 'complaint': 344, 'awesome': 163, 'always': 105, 'daughter': 408, 'ereader': 534, 'backlit': 172, 'needed': 1016, 'something': 1447, 'could': 380, 'low': 933, 'perfectly': 1126, 'night': 1032, 'adjustable': 72, 'downloading': 470, '3g': 30, 'used': 1673, 'yet': 1779, 'far': 582, 'area': 135, 'quite': 1235, 'upgrade': 1666, 'original': 1085, 'deletion': 421, 'carousel': 276, 'welcome': 1726, 'change': 289, 'style': 1511, 'approach': 131, 'faster': 584, 'consice': 364, 'still': 1495, 'chime': 301, 'also': 102, 'miss': 985, 'ease': 490, 'making': 948, 'note': 1040, 'way': 1717, 'organize': 1082, 'trying': 1641, 'figure': 598, 'series': 1386, 'trilogy': 1635, 'etc': 538, 'impossible': 774, 'set': 1391, 'chance': 288, 'wont': 1749, 'pick': 1141, 'already': 100, 'constantly': 368, 'screwing': 1361, 'filled': 601, 'ad': 62, 'pay': 1117, 'remove': 1290, 'best': 202, 'refused': 1278, 'help': 725, 'wanted': 1707, 'return': 1318, 'durable': 485, 'child': 300, 'installed': 793, 'picture': 1143, 'affordable': 83, 'picked': 1142, 'tablet': 1545, 'hd': 715, 'longer': 916, 'insurance': 799, 'kicked': 834, 'instead': 796, 'memory': 964, 'watch': 1711, 'movie': 1000, 'blue': 215, 'color': 328, 'working': 1754, 'perfect': 1125, 'met': 971, 'need': 1015, 'year': 1774, 'old': 1062, 'granddaughter': 684, 'display': 453, 'see': 1369, 'allows': 94, 'choose': 303, 'safe': 1339, 'setting': 1392, 'pin': 1146, 'protected': 1213, 'parent': 1112, 'lock': 909, 'protect': 1212, 'young': 1782, 'inappropriate': 780, 'content': 370, 'protector': 1216, 'large': 853, 'direction': 448, 'coherent': 325, 'worse': 1759, 'proprietary': 1211, 'apps': 132, 'liked': 891, 'install': 792, 'basically': 183, 'worthless': 1762, 'returned': 1319, 'sorcerer': 1457, 'box': 229, 'magical': 942, 'bright': 238, 'mother': 998, 'first': 610, 'navigate': 1010, 'difiitioin': 444, 'thanks': 1577, 'school': 1356, 'bit': 212, 'registered': 1279, 'function': 648, 'failed': 575, 'every': 542, 'finally': 604, 'resort': 1312, 'calling': 264, 'customer': 399, 'service': 1389, 'task': 1557, 'seems': 1373, 'glitch': 671, 'programming': 1204, 'follow': 624, 'step': 1491, 'highly': 735, 'recommend': 1269, 'skipping': 1425, 'getting': 660, 'tied': 1600, 'company': 338, 'operation': 1074, 'software': 1441, 'grandkids': 685, 'age': 84, 'sale': 1343, 'guy': 695, 'said': 1341, 'ran': 1238, 'fast': 583, 'internet': 801, 'barely': 180, 'chug': 308, 'play': 1153, 'game': 651, 'stall': 1478, 'freeze': 636, 'planning': 1152, 'buying': 260, 'niece': 1031, 'wouldnt': 1767, 'horrible': 749, 'father': 585, 'law': 866, 'frustrating': 644, 'friendly': 640, 'name': 1009, 'brand': 232, 'apple': 129, 'samsung': 1344, 'avoid': 161, 'ive': 818, 'kindles': 841, 'latest': 863, 'right': 1327, 'top': 1613, 'month': 995, 'slow': 1432, 'cant': 269, 'open': 1071, 'app': 125, '15': 9, 'second': 1366, 'different': 440, 'others': 1086, 'normal': 1038, 'easily': 492, 'performance': 1129, 'replace': 1295, 'peoplei': 1123, 'defective': 418, 'piece': 1144, 'actual': 60, 'difficult': 442, 'stock': 1496, 'store': 1499, 'order': 1079, 'ship': 1401, 'become': 194, 'turned': 1645, 'log': 911, 'onto': 1070, 'network': 1021, 'though': 1591, 'household': 755, 'move': 999, 'past': 1116, 'clock': 316, 'tried': 1634, 'sturdy': 1510, 'people': 1122, 'might': 976, 'drop': 481, 'almost': 95, 'recieve': 1263, 'prior': 1196, 'parental': 1113, 'timer': 1603, 'soooooo': 1456, 'many': 952, 'character': 291, 'enjoy': 519, 'level': 881, 'case': 279, 'soft': 1440, 'sterdy': 1492, 'put': 1224, 'super': 1524, 'qualityi': 1228, 'another': 115, 'lacking': 849, 'gig': 664, 'anyone': 118, 'disappointed': 450, 'toddler': 1609, 'inside': 791, 'kid': 835, 'proof': 1208, 'biggest': 210, 'connected': 357, 'church': 309, 'car': 273, 'dropped': 483, 'standing': 1481, 'position': 1174, 'foot': 626, 'ground': 691, 'busted': 256, 'bb': 188, 'warranty': 1709, 'fall': 577, 'shouldve': 1404, 'able': 50, 'handle': 701, 'designed': 429, 'definitely': 419, 'thrilled': 1594, 'lack': 848, 'protection': 1214, 'forever': 628, 'download': 468, 'returning': 1320, 'else': 510, 'six': 1420, 'grandson': 686, 'stuff': 1509, 'send': 1381, 'video': 1689, 'using': 1679, 'truly': 1638, 'son': 1450, 'tough': 1621, '18': 11, 'trip': 1636, 'la': 847, 'lot': 926, 'learning': 872, 'touch': 1618, 'loading': 904, 'bad': 176, 'respond': 1313, 'two': 1649, 'setupthe': 1394, 'break': 233, 'mine': 979, 'suggestion': 1518, 'attention': 148, 'without': 1744, 'breaking': 234, 'cumbersome': 392, 'complicated': 348, 'suggesting': 1517, 'hadit': 697, 'feel': 592, 'handling': 702, 'bookgreat': 220, 'indoor': 786, 'outdoor': 1090, 'noe': 1033, 'littlebit': 902, 'unusual': 1662, 'press': 1183, 'starting': 1486, 'power': 1177, 'goodthe': 680, 'experimental': 564, 'browser': 244, 'exceeded': 548, 'expectation': 558, 'load': 903, 'saving': 1350, 'space': 1461, 'avid': 160, 'travel': 1629, 'worry': 1758, 'value': 1681, 'looking': 920, 'text': 1573, 'sharp': 1398, 'wonderful': 1747, 'environment': 530, 'compact': 336, 'paper': 1109, 'white': 1732, 'model': 988, 'button': 258, 'adjusting': 73, 'hand': 699, 'holding': 740, 'thumb': 1598, 'resting': 1316, 'minor': 981, 'convenience': 373, 'owned': 1098, 'resolution': 1310, 'performs': 1131, 'market': 953, 'electronic': 505, 'three': 1593, 'hooked': 744, 'honestly': 743, 'justify': 827, 'double': 466, 'certainly': 286, 'added': 66, 'sure': 1529, 'money': 993, 'operates': 1073, 'greatest': 689, 'nearly': 1012, '16': 10, 'worked': 1753, 'kept': 830, 'receiving': 1259, 'email': 512, 'update': 1664, 'switched': 1537, 'airplane': 88, 'mode': 987, 'shortly': 1403, 'locked': 910, 'everything': 544, 'tell': 1566, 'annoyed': 114, 'left': 877, 'scratch': 1358, 'eye': 568, 'session': 1390, 'lcd': 868, 'smart': 1436, 'issue': 813, 'connect': 356, 'connectivity': 361, 'member': 963, 'taken': 1549, 'element': 507, 'combined': 329, 'unit': 1658, 'functionality': 649, 'depending': 426, 'prefer': 1179, 'fan': 579, 'daily': 403, 'often': 1059, 'least': 873, 'downside': 471, 'improve': 777, 'perhaps': 1132, 'weight': 1724, 'worthy': 1764, 'hold': 738, 'tired': 1607, 'upgrading': 1668, 'older': 1063, 'dead': 412, 'texttovoice': 1575, 'decided': 417, 'started': 1484, 'review': 1322, 'enticed': 527, 'took': 1612, 'plunge': 1161, 'sleek': 1427, 'neat': 1013, 'enjoyed': 521, 'frugal': 643, 'self': 1377, 'ambient': 108, 'sensor': 1382, 'nice': 1029, 'ended': 516, 'manually': 951, 'completely': 346, 'error': 536, 'meant': 958, 'spot': 1473, 'located': 907, 'habit': 696, 'flipping': 619, 'swiping': 1536, 'despite': 432, 'availability': 157, 'clarity': 310, 'felt': 593, 'nonetheless': 1035, 'bothered': 226, 'enough': 525, 'blank': 214, 'yellowish': 1776, 'half': 698, 'reviewer': 1324, 'mentioned': 966, 'newest': 1025, 'appears': 128, 'dingy': 446, 'theyre': 1583, 'sidetoside': 1410, 'wished': 1743, 'wasnt': 1710, 'conscious': 363, 'object': 1049, 'fine': 607, 'overall': 1095, 'probably': 1199, 'priced': 1189, 'casual': 281, 'willing': 1739, 'tag': 1547, 'trade': 1624, 'positive': 1175, 'wish': 1742, 'reflection': 1275, 'contact': 369, 'perform': 1128, 'factory': 573, 'reset': 1307, 'show': 1405, 'poorly': 1169, 'sd': 1363, 'card': 274, 'pop': 1170, 'mess': 968, 'drm': 480, 'happens': 704, 'fix': 613, 'spending': 1470, 'ipad': 808, 'based': 181, 'maybe': 956, 'information': 788, 'actually': 61, 'access': 52, 'beyond': 206, 'initially': 790, 'going': 674, 'thought': 1592, 'ecollege': 498, 'helped': 726, 'invested': 805, 'xmas': 1773, 'pad': 1104, 'sort': 1458, 'afford': 82, 'looked': 919, 'alternative': 103, 'reasonable': 1256, 'third': 1588, 'capability': 270, 'suitable': 1519, 'skill': 1423, 'compliment': 349, 'present': 1182, 'giving': 667, 'happen': 703, 'let': 879, 'pleased': 1158, 'piggyback': 1145, 'go': 672, 'useful': 1674, '101': 2, 'itnolearning': 816, 'curve': 397, 'bigger': 209, '10th': 3, 'run': 1336, 'writing': 1771, 'pointsthis': 1165, 'watching': 1713, 'tv': 1647, 'activites': 58, 'awkward': 165, 'weird': 1725, 'generally': 657, 'enjoyable': 520, 'share': 1397, 'exact': 546, 'spec': 1466, 'higher': 732, 'there': 1580, 'laptop': 852, 'inbound': 781, 'college': 327, 'student': 1508, 'found': 632, 'searching': 1365, 'anywhere': 123, 'cheaper': 298, 'reclining': 1265, 'terrific': 1571, 'film': 602, 'plane': 1151, 'desk': 431, 'sitting': 1418, '10': 0, 'activity': 59, 'netflix': 1020, 'ok': 1060, 'mostly': 997, 'limitation': 894, 's2': 1337, '97': 48, 'perfectsound': 1127, 'ittle': 817, 'weak': 1718, 'killed': 836, 'god': 673, 'camera': 267, 'spend': 1469, 'drive': 478, 'crazy': 388, 'husband': 760, '4th': 36, 'generation': 658, '5th': 39, 'louder': 928, 'current': 394, 'expecting': 560, 'simple': 1412, 'start': 1483, 'fit': 611, 'personal': 1135, 'sahre': 1340, 'tabletit': 1546, 'efficient': 502, 'companion': 337, 'lucky': 936, 'scanned': 1355, '20': 15, 'le': 869, 'advertised': 78, 'woo': 1750, 'unfortunate': 1655, 'part': 1114, 'misinformed': 984, 'chrome': 307, 'cast': 280, 'compatible': 342, 'table': 1544, 'disappointing': 451, 'alright': 101, 'newer': 1024, 'previously': 1187, 'taking': 1550, 'learn': 870, 'tendency': 1569, 'multiple': 1003, '7year': 42, 'saved': 1349, 'brother': 242, '8gb': 46, 'earlier': 489, 'clunky': 321, 'intuitive': 803, 'speed': 1468, 'isnt': 812, 'web': 1720, 'certain': 285, 'gaming': 652, 'helpful': 727, 'require': 1304, 'seem': 1372, 'necessary': 1014, 'considering': 366, 'adult': 76, 'basic': 182, 'efficiency': 501, '5yo': 40, 'randomly': 1239, 'close': 317, 'dad': 402, 'carry': 278, 'around': 139, 'facebook': 570, 'expected': 559, 'supposed': 1528, 'computer': 351, 'system': 1540, 'told': 1611, 'receive': 1257, 'ordered': 1080, 'someone': 1446, 'received': 1258, 'anyway': 121, 'exactly': 547, 'must': 1006, 'place': 1149, 'pandora': 1108, 'office': 1058, 'teenage': 1564, 'beautifully': 193, 'pack': 1101, 'class': 311, 'birthday': 211, 'free': 635, 'occupy': 1052, 'look': 918, 'cheap': 297, 'mini': 980, 'pocket': 1163, 'paired': 1107, 'audible': 151, 'snap': 1438, 'trouble': 1637, 'charge': 292, 'july': 823, 'impressed': 776, 'repurchase': 1302, 'curved': 398, 'straight': 1501, 'viewer': 1692, 'speak': 1463, 'meh': 962, 'find': 605, 'backupand': 174, 'larger': 854, 'cell': 284, 'occasionally': 1051, 'may': 955, '40': 32, '50': 37, 'till': 1601, 'sent': 1383, 'repair': 1293, 'tot': 1616, '3rd': 31, 'primetime': 1194, 'simply': 1413, 'trick': 1633, 'gone': 676, 'toast': 1608, 'october': 1054, '11': 4, '2016': 18, 'quit': 1234, 'february': 589, '2015': 17, 'lasted': 856, 'stereo': 1493, 'dayssturdier': 411, 'built': 250, 'full': 646, 'junk': 826, 'offered': 1057, 'player': 1154, 'shuts': 1408, 'period': 1133, 'thats': 1578, 'hdx': 717, 'replaced': 1296, 'problem': 1200, 'slot': 1431, 'try': 1640, 'plug': 1159, 'external': 565, 'sometimes': 1448, 'unless': 1659, 'phooey': 1138, 'several': 1395, 'fanatic': 580, 'mom': 990, 'youll': 1781, 'hd8': 716, 'streaming': 1505, 'favorite': 587, '100': 1, 'versatility': 1686, 'lately': 861, 'hasnt': 711, 'bell': 200, 'whistle': 1731, 'gon': 675, 'na': 1008, 'anything': 119, '11yr': 5, 'kind': 837, 'yr': 1786, 'tube': 1642, 'xbox': 1772, 'sega': 1375, 'systemsmy': 1541, 'ready': 1250, 'cracked': 387, 'goodhe': 678, 'call': 262, 'gb': 654, '32': 26, 'gbthey': 655, 'away': 162, 'riding': 1326, 'vehicle': 1683, 'lol': 914, 'surprise': 1532, 'common': 334, 'modest': 989, '2nd': 23, 'reviewed': 1323, 'throughly': 1595, 'elsewhere': 511, 'solid': 1444, 'mainly': 946, 'wan': 1705, 'talk': 1551, 'local': 905, 'employee': 513, 'mile': 977, 'locate': 906, 'somewhe': 1449, 'ordering': 1081, 'pleasant': 1157, 'charging': 295, 'normally': 1039, 'hit': 737, 'outlet': 1091, 'replaces': 1298, 'cable': 261, 'penny': 1121, 'spent': 1471, 'deal': 413, 'giftthey': 663, 'hate': 713, 'television': 1565, 'location': 908, 'puzzle': 1225, 'samsungverizon': 1345, 'constant': 367, 'advertisement': 79, '32gb': 28, 'storage': 1498, 'remember': 1288, '20gb': 20, 'program': 1203, 'preinstalled': 1180, 'downloaded': 469, 'front': 641, 'rear': 1254, 'ebook': 494, 'called': 263, 'department': 425, 'semester': 1380, 'representative': 1301, 'carrier': 277, 'minute': 983, 'limit': 893, 'saw': 1352, 'resist': 1308, 'gotten': 683, 'padded': 1105, 'sat': 1346, 'showed': 1406, 'scroll': 1362, 'geek': 656, 'squad': 1476, 'monday': 992, 'april': 133, '2017': 19, 'trust': 1639, 'prob': 1198, 'bedt': 197, 'hassle': 712, 'surf': 1530, 'check': 299, 'person': 1134, 'enjoys': 523, 'strike': 1506, 'balance': 179, 'youd': 1780, 'fraction': 633, 'flawlessly': 615, 'inch': 782, 'teen': 1563, 'save': 1348, 'nicely': 1030, 'starter': 1485, 'recomment': 1271, 'travelling': 1632, 'havent': 714, 'opportunity': 1076, 'fair': 576, 'road': 1329, 'test': 1572, 'point': 1164, 'capable': 271, 'watchread': 1714, 'burning': 255, 'data': 407, 'roaming': 1330, 'fee': 590, 'flight': 616, 'highest': 733, 'job': 821, 'done': 461, 'lite': 900, 'glad': 668, 'vivid': 1695, 'browsing': 245, 'keypad': 833, 'surprised': 1533, 'changed': 290, 'ithave': 815, 'shown': 1407, 'couple': 384, 'thinking': 1587, 'horriblejust': 750, 'due': 484, 'outstanding': 1094, 'replacement': 1297, 'outdated': 1089, 'overpriced': 1097, 'ago': 86, 'recently': 1261, 'search': 1364, 'purchasing': 1222, 'sister': 1417, 'beginner': 198, 'novice': 1044, 'five': 612, '4g': 34, 'introduced': 802, 'jumped': 824, '2014': 16, 'summer': 1520, 'overheating': 1096, 'nonresponsive': 1036, 'midday': 974, 'heat': 720, 'soi': 1442, 'swype': 1539, 'rid': 1325, 'secondly': 1367, 'lastly': 857, 'importantly': 773, 'awhile': 164, 'bunch': 254, 'code': 323, 'shimmering': 1400, 'background': 168, 'andor': 110, 'leaving': 875, 'brings': 241, 'aggravating': 85, 'extremely': 567, 'hoping': 748, 'google': 681, 'launcher': 865, 'liking': 892, 'taste': 1558, 'world': 1756, 'requires': 1306, 'hoop': 745, 'zinio': 1788, 'loosens': 922, 'grip': 690, 'improved': 778, 'differently': 441, 'heavier': 722, 'bed': 195, 'harder': 709, 'slip': 1430, '32g': 27, 'none': 1034, 'wait': 1700, 'refurbished': 1277, 'stream': 1504, 'hulu': 759, 'excited': 553, 'home': 741, 'guess': 694, 'inexpensive': 787, 'responding': 1314, 'electronics': 506, 'graphic': 687, 'wireless': 1741, 'connectionoverall': 360, 'tote': 1617, 'negative': 1018, 'limited': 895, 'challenge': 287, 'bn': 217, 'nook': 1037, 'dying': 488, 'waiting': 1702, 'acting': 56, 'excuse': 554, 'expandable': 556, 'hindsight': 736, 'reported': 1300, 'donot': 462, 'anytime': 120, 'main': 945, 'dropbox': 482, 'design': 428, 'addition': 68, 'convenient': 374, 'opinion': 1075, 'curriculum': 396, 'house': 754, 'tweeting': 1648, 'complete': 345, 'care': 275, 'juju': 822, 'lunch': 938, 'quicker': 1232, 'beautiful': 192, 'charger': 293, 'loose': 921, 'special': 1467, 'wrapping': 1770, 'pink': 1147, 'videosplaying': 1690, 'sufficient': 1516, 'busy': 257, 'educational': 500, 'protective': 1215, 'sold': 1443, 'who': 1734, 'rough': 1334, 'readhe': 1245, 'next': 1028, 'strong': 1507, 'course': 385, 'dnt': 457, 'fact': 571, 'independent': 785, 'aloud': 99, 'maneuver': 950, 'tho': 1590, 'tab': 1543, 'witnessed': 1745, 'couch': 379, 'laminate': 851, 'floor': 621, 'reluctant': 1285, 'rely': 1286, 'technology': 1562, 'allow': 93, 'allotted': 92, 'amount': 109, 'whole': 1735, 'bumper': 253, 'yeargot': 1775, 'younger': 1783, 'fight': 596, 'budget': 247, 'rugged': 1335, 'survived': 1535, 'countless': 382, 'learned': 871, 'alot': 98, 'hope': 746, 'prepare': 1181, 'pre': 1178, 'image': 769, 'mediocre': 960, 'dy': 487, 'hourshould': 753, 'bold': 218, 'usage': 1671, 'bestbuy': 203, 'delivered': 422, 'release': 1283, 'backordered': 173, 'uniform': 1657, 'snappy': 1439, 'mean': 957, 'outperformed': 1092, 'oasisbattery': 1048, 'lowest': 935, 'magnetic': 944, 'connector': 362, 'grows': 692, 'unsnaps': 1661, 'promise': 1205, 'resolved': 1311, 'comfortable': 331, 'debated': 414, 'oasis': 1047, 'crisp': 390, 'thick': 1584, 'edge': 499, 'pw': 1226, 'devise': 436, 'rather': 1240, 'cd': 283, 'evenly': 540, 'distributed': 456, 'physical': 1140, 'haptic': 707, 'feedback': 591, 'type': 1650, 'include': 783, 'automatically': 155, 'adaptive': 64, 'ill': 765, 'fiddle': 595, 'anywaybut': 122, 'smile': 1437, 'soon': 1454, 'bezel': 207, 'comfortably': 332, 'touching': 1619, 'devicethe': 435, 'upper': 1669, 'forward': 631, 'configurablethe': 355, 'bulk': 251, 'origami': 1084, 'stand': 1479, 'readingi': 1247, 'waterproof': 1716, '89': 45, 'wow': 1768, 'thank': 1576, 'babe': 166, 'tiny': 1605, 'jean': 820, 'mind': 978, 'leather': 874, 'black': 213, 'brown': 243, 'red': 1272, 'wine': 1740, 'middle': 975, 's8': 1338, 'idea': 763, 'cute': 401, 'tinier': 1604, 'keyboard': 832, 'adjust': 71, 'brightness': 240, 'font': 625, 'handed': 700, 'curious': 393, 'disappoint': 449, 'coat': 322, 'redesign': 1273, 'late': 860, 'june': 825, 'apparent': 126, 'demand': 424, '27': 22, 'including': 784, 'recent': 1260, 'unprepared': 1660, 'entirely': 528, 'batterycharging': 187, 'together': 1610, 'weigh': 1723, 'ounce': 1088, 'impossibly': 775, '46': 33, 'sizewise': 1422, 'square': 1477, 'shape': 1396, 'wide': 1736, '55': 38, 'tall': 1553, 'traditional': 1625, 'verify': 1684, 'jacket': 819, 'frequent': 637, 'traveler': 1630, 'key': 831, 'briefcase': 236, 'frontlit': 642, 'seen': 1374, 'trace': 1623, 'led': 876, 'angle': 112, 'spotsjust': 1475, 'illumination': 766, 'flush': 622, 'glass': 669, 'surface': 1531, 'helping': 728, 'achieve': 53, 'illusion': 767, 'printed': 1195, 'separated': 1385, 'pulling': 1219, 'apart': 124, 'magnet': 943, 'engineering': 517, 'team': 1559, 'achievement': 54, 'imagine': 770, 'arm': 138, 'fatigue': 586, 'switching': 1538, 'rotating': 1333, '180': 12, 'degree': 420, 'instantly': 795, 'rotates': 1332, 'advance': 77, 'bottom': 227, 'backward': 175, 'capacity': 272, 'recharge': 1262, 'continue': 371, 'port': 1171, 'topright': 1615, 'corner': 377, 'opposite': 1077, 'reach': 1241, 'attract': 149, 'fingerprint': 608, 'clean': 312, 'figured': 599, 'prevent': 1185, 'annoyance': 113, 'complained': 343, 'loudly': 929, 'relative': 1281, '310': 25, '139': 8, 'adless': 75, 'addict': 67, 'personally': 1136, 'clearly': 314, 'designing': 430, 'building': 249, 'reflects': 1276, 'everyone': 543, 'obviously': 1050, 'consider': 365, 'website': 1721, 'deserves': 427, 'keeping': 829, 'entry': 529, 'gifted': 662, 'ipads': 809, 'driving': 479, 'laying': 867, 'wanting': 1708, 'vacation': 1680, 'lugging': 937, 'paperback': 1110, 'throw': 1596, 'bag': 177, 'offer': 1056, 'ereaders': 535, 'county': 383, 'shop': 1402, 'amazoncom': 107, 'whitepaper': 1733, '80': 43, 'line': 896, 'lengthy': 878, 'minuet': 982, 'female': 594, 'elmer': 509, 'fud': 645, 'english': 518, 'although': 104, 'identical': 764, '120': 6, 'score': 1357, 'catch': 282, 'seeing': 1370, '8th': 47, 'assumed': 146, 'stopped': 1497, '25': 21, 'brighter': 239, 'technician': 1561, 'realized': 1252, 'supported': 1526, 'backlights': 171, 'target': 1556, 'lettering': 880, 'sleeping': 1429, 'unable': 1652, 'waking': 1704, 'husbandso': 761, 'daylightits': 410, 'doesnot': 458, 'attached': 147, 'strain': 1502, 'proper': 1209, 'dozen': 472, 'erasing': 533, 'dreregistering': 477, 'refer': 1274, 'man': 949, 'later': 862, 'drawback': 475, 'pdfs': 1120, 'properly': 1210, 'zoom': 1789, 'provides': 1217, 'bookshelf': 222, 'suck': 1515, '4gig': 35, '1gig': 14, 'advertising': 80, 'seriously': 1388, 'lame': 850, 'reverse': 1321, 'äôm': 1791, 'outside': 1093, 'sunlight': 1523, 'word': 1751, 'crystal': 391, 'alone': 96, 'methe': 972, 'wake': 1703, 'readit': 1248, 'isn': 811, 'äôt': 1792, 'heavy': 723, 'bulky': 252, 'pace': 1100, 'elliptical': 508, 'machine': 940, 'remains': 1287, 'eyeswhen': 569, 'pdf': 1119, 'enlarge': 524, 'won': 1746, 'orientation': 1083, 'highlight': 734, 'passagesmy': 1115, 'merlot': 967, 'attractive': 150, 'flip': 618, 'opening': 1072, 'bookhow': 221, 'laston': 858, 'äúdualbattery': 1794, 'delivers': 423, 'äù': 1793, 'kindleis': 840, 'performed': 1130, 'condition': 353, 'monthsfirst': 996, 'thirty': 1589, 'don': 460, 'occur': 1053, 'everywhere': 545, 'spare': 1462, 'moment': 991, 'readsecond': 1249, 'booksthird': 223, '18i': 13, 'sleep': 1428, 'single': 1415, 'ten': 1568, 'longest': 917, 'remembered': 1289, 'succeed': 1514, 'lastsnow': 859, 'possibly': 1176, 'drain': 474, 'chargethe': 294, 'neededspecial': 1017, 'aren': 136, 'distraction': 455, 'honest': 742, 'themi': 1579, 'asked': 142, 'known': 846, 'wouldn': 1766, 'closed': 318, 'arrived': 140, 'promised': 1206, 'bestbuycom': 204, 'pricy': 1192, 'pixel': 1148, 'procesor': 1201, 'youre': 1784, 'noticed': 1043, 'water': 1715, 'resistant': 1309, 'hence': 729, 'plan': 1150, 'raining': 1237, 'bath': 185, 'currently': 395, 'taller': 1554, 'smallest': 1435, 'lightest': 886, 'forevertwo': 629, 'logo': 913, 'inverted': 804, 'textthose': 1574, 'mestill': 970, 'recommended': 1270, 'worthwhile': 1763, 'exception': 551, 'touted': 1622, 'backlighting': 170, 'additional': 69, 'expense': 561, 'frequently': 638, 'investment': 806, 'yesterday': 1778, 'lighweight': 889, 'voyager': 1699, 'comparable': 339, 'touchscreen': 1620, 'kinda': 838, 'onoff': 1068, 'flimsy': 617, 'finding': 606, 'removed': 1291, 'separate': 1384, 'thru': 1597, 'worn': 1757, '810': 44, 'medium': 961, 'lovin': 932, 'launch': 864, '384xx': 29, 'youtube': 1785, 'dot': 465, 'involved': 807, 'thereafter': 1581, 'talking': 1552, 'alexia': 91, 'adapter': 63, 'answer': 116, 'associated': 145, 'applicable': 130, 'trailer': 1627, 'ondemand': 1065, 'security': 1368, 'activated': 57, 'message': 969, 'owner': 1099, 'holder': 739, 'priciest': 1191, 'collection': 326, 'microphone': 973, 'standard': 1480, 'besides': 201, 'kink': 842, 'chat': 296, 'sell': 1378, 'chromcast': 306, 'goodness': 679, 'sake': 1342, 'omg': 1064, 'sooo': 1455, 'entertaining': 526, 'hugged': 758, 'waited': 1701, 'equal': 531, 'sony': 1453, 'dash': 406, 'decade': 415, 'tip': 1606, 'near': 1011, 'zero': 1787, 'customization': 400, 'side': 1409, 'alarm': 89, 'fail': 574, 'baked': 178, 'disaster': 452, 'component': 350, 'dream': 476, 'topic': 1614, 'lyric': 939, 'moviestrailers': 1001, '12999': 7, 'regular': 1280, 'of24999': 1055, 'communicate': 335, 'visually': 1694, 'choosing': 304, 'desplayed': 433, 'figired': 597, 'hopefully': 747, 'hardware': 710, 'downfall': 467, 'eco': 497, 'recomending': 1268, 'recipe': 1264, 'cooking': 375, 'conferencing': 354, 'headline': 718, 'story': 1500, 't8me': 1542, 'temperature': 1567, 'coffee': 324, 'cloudcam': 320, 'monitor': 994, 'cloud': 319, 'cam': 265, 'kitchen': 843, 'savvy': 1351, 'numerous': 1045, 'installing': 794, 'enabling': 514, 'updated': 1665, 'plugged': 1160, 'final': 603, 'straw': 1503, 'rep': 1292, 'can': 268, 'äîand': 1790, 'solve': 1445, 'required': 1305, 'create': 389, 'surveillance': 1534, 'linking': 897, 'ring': 1328, 'doorbell': 464, 'floodlight': 620, 'view': 1691, 'command': 333, 'result': 1317, 'query': 1229, 'scan': 1354, 'via': 1688, 'upc': 1663, 'spoken': 1472, 'news': 1026, 'briefing': 237, 'arent': 137, 'fill': 600, 'immediately': 772, 'digital': 445, 'frame': 634, 'releasing': 1284, 'thermostat': 1582, 'viewing': 1693, 'duty': 486, 'setup': 1393, 'watched': 1712, 'equipment': 532, 'unbelievablebetter': 1653, 'bose': 225, 'assistant': 144, 'fantastic': 581, 'forecast': 627, 'traffic': 1626, 'brief': 235, 'steaming': 1490, 'radio': 1236, 'station': 1487, 'package': 1102, 'bedroom': 196, 'glassesi': 670, 'sonos': 1452, 'playlist': 1156, 'ny': 1046, 'missed': 986, 'loud': 927, 'usersif': 1678, 'buck': 246, 'suppose': 1527, 'wrapped': 1769, 'didn': 437, 'automation': 156, 'addtion': 70, 'usefulness': 1675, 'wondering': 1748, 'prioritize': 1197, 'multitasking': 1004, 'pc': 1118, 'newsweather': 1027, 'audiobooks': 153, 'flash': 614, 'repeat': 1294, 'subscribed': 1513, 'subcategories': 1512, 'skip': 1424, 'ahead': 87, 'variation': 1682, 'hears': 719, 'ar': 134, 'tic': 1599, 'hey': 730, 'relatively': 1282, 'imagined': 771, 'onscreen': 1069, 'instructional': 798, 'workingcooking': 1755, 'photo': 1139, 'displayall': 454, 'average': 159}\n"
     ]
    }
   ],
   "source": [
    "#Checking the vocabulary of the vectorizer\n",
    "print(vectorizer.vocabulary_)"
   ]
  },
  {
   "cell_type": "code",
   "execution_count": 101,
   "id": "455ddf0c",
   "metadata": {},
   "outputs": [
    {
     "name": "stdout",
     "output_type": "stream",
     "text": [
      "   10  100  101  10th  11  11yr  120  12999  139  15  ...  youtube  yr  zero  \\\n",
      "0   0    0    0     0   0     0    0      0    0   0  ...        0   0     0   \n",
      "1   0    0    0     0   0     0    0      0    0   0  ...        0   0     0   \n",
      "2   0    0    0     0   0     0    0      0    0   0  ...        0   0     0   \n",
      "3   0    0    0     0   0     0    0      0    0   0  ...        0   0     0   \n",
      "4   0    0    0     0   0     0    0      0    0   0  ...        0   0     0   \n",
      "\n",
      "   zinio  zoom  äîand  äôm  äôt  äù  äúdualbattery  \n",
      "0      0     0      0    0    0   0              0  \n",
      "1      0     0      0    0    0   0              0  \n",
      "2      0     0      0    0    0   0              0  \n",
      "3      0     0      0    0    0   0              0  \n",
      "4      0     0      0    0    0   0              0  \n",
      "\n",
      "[5 rows x 1795 columns]\n"
     ]
    },
    {
     "name": "stderr",
     "output_type": "stream",
     "text": [
      "C:\\Users\\kkere\\anaconda3\\lib\\site-packages\\sklearn\\utils\\deprecation.py:87: FutureWarning: Function get_feature_names is deprecated; get_feature_names is deprecated in 1.0 and will be removed in 1.2. Please use get_feature_names_out instead.\n",
      "  warnings.warn(msg, category=FutureWarning)\n"
     ]
    }
   ],
   "source": [
    "# Getting the list of words\n",
    "feature_names = vectorizer.get_feature_names()\n",
    "\n",
    "# Converting the bag-of-words matrix to a pandas DataFrame\n",
    "X_df = pd.DataFrame(X.toarray(), columns=feature_names)\n",
    "\n",
    "# Printing the rows of the DataFrame\n",
    "print(X_df.head())"
   ]
  },
  {
   "cell_type": "markdown",
   "id": "300dcbad",
   "metadata": {},
   "source": [
    "# Building the Model"
   ]
  },
  {
   "cell_type": "markdown",
   "id": "19fafa6f",
   "metadata": {},
   "source": [
    "### Naive Bayes"
   ]
  },
  {
   "cell_type": "code",
   "execution_count": 120,
   "id": "d1101951",
   "metadata": {},
   "outputs": [],
   "source": [
    "# Assigning the label column to y\n",
    "y = df['Sentiment']\n",
    "\n",
    "# Split the data into training and testing sets\n",
    "X_train, X_valid, y_train, y_valid = train_test_split(X, y, test_size=0.2, random_state = 100)"
   ]
  },
  {
   "cell_type": "code",
   "execution_count": 121,
   "id": "e80913f9",
   "metadata": {},
   "outputs": [
    {
     "data": {
      "text/plain": [
       "MultinomialNB()"
      ]
     },
     "execution_count": 121,
     "metadata": {},
     "output_type": "execute_result"
    }
   ],
   "source": [
    "# Fitting the model\n",
    "classifier = MultinomialNB()\n",
    "classifier.fit(X_train, y_train)"
   ]
  },
  {
   "cell_type": "code",
   "execution_count": 122,
   "id": "773c0319",
   "metadata": {},
   "outputs": [],
   "source": [
    "# Predictions on the validation set\n",
    "y_pred = classifier.predict(X_valid)"
   ]
  },
  {
   "cell_type": "code",
   "execution_count": 123,
   "id": "85dcccfb",
   "metadata": {},
   "outputs": [
    {
     "name": "stdout",
     "output_type": "stream",
     "text": [
      "Validation Accuracy: 0.8625\n"
     ]
    }
   ],
   "source": [
    "# Checking the accuracy of the model\n",
    "accuracy = accuracy_score(y_valid, y_pred)\n",
    "print(\"Validation Accuracy:\", accuracy)"
   ]
  },
  {
   "cell_type": "code",
   "execution_count": 106,
   "id": "e91a48bc",
   "metadata": {
    "collapsed": true
   },
   "outputs": [
    {
     "name": "stdout",
     "output_type": "stream",
     "text": [
      "Incorrect prediction 1:\n",
      "  Actual label: 0\n",
      "  Predicted label: 1\n",
      "         Review: ['anything' 'buy' 'gon' 'like' 'na']\n",
      "\n",
      "Incorrect prediction 2:\n",
      "  Actual label: 0\n",
      "  Predicted label: 1\n",
      "         Review: ['amazon' 'best' 'big' 'build' 'fan' 'good' 'great' 'im' 'image'\n",
      " 'mediocre' 'ok' 'price' 'product' 'quality' 'software' 'tablet' 'worth']\n",
      "\n",
      "Incorrect prediction 3:\n",
      "  Actual label: 0\n",
      "  Predicted label: 1\n",
      "         Review: ['worth']\n",
      "\n",
      "Incorrect prediction 4:\n",
      "  Actual label: 0\n",
      "  Predicted label: 1\n",
      "         Review: ['like']\n",
      "\n",
      "Incorrect prediction 5:\n",
      "  Actual label: 0\n",
      "  Predicted label: 1\n",
      "         Review: ['bass' 'better' 'concept' 'echo' 'execution' 'good' 'great' 'however'\n",
      " 'love' 'much' 'one' 'poor' 'portable' 'pretty' 'scratchy' 'sound' 'tap'\n",
      " 'terrible']\n",
      "\n",
      "Incorrect prediction 6:\n",
      "  Actual label: 1\n",
      "  Predicted label: 0\n",
      "         Review: ['anyone' 'entertaining' 'product' 'recommend' 'useful' 'would']\n",
      "\n",
      "Incorrect prediction 7:\n",
      "  Actual label: 0\n",
      "  Predicted label: 1\n",
      "         Review: ['boy' 'friend' 'like']\n",
      "\n",
      "Incorrect prediction 8:\n",
      "  Actual label: 0\n",
      "  Predicted label: 1\n",
      "         Review: ['cheaper' 'quality']\n",
      "\n",
      "Incorrect prediction 9:\n",
      "  Actual label: 1\n",
      "  Predicted label: 0\n",
      "         Review: ['actually' 'device' 'echo' 'else' 'get' 'going' 'great' 'help' 'lot'\n",
      " 'one' 'plus' 'prioritize' 'purchase' 'spot' 'start' 'suggestion'\n",
      " 'usefulness' 'week' 'wondering' 'youre']\n",
      "\n",
      "Incorrect prediction 10:\n",
      "  Actual label: 0\n",
      "  Predicted label: 1\n",
      "         Review: ['buy']\n",
      "\n",
      "Incorrect prediction 11:\n",
      "  Actual label: 1\n",
      "  Predicted label: 0\n",
      "         Review: ['amazon' 'android' 'apps' 'limited' 'negative' 'theyre' 'thought'\n",
      " 'version']\n",
      "\n"
     ]
    }
   ],
   "source": [
    "#Checking the inaccurate predictions\n",
    "\n",
    "# Identify incorrectly predicted reviews\n",
    "incorrect_rows = X_valid[y_pred != y_valid]\n",
    "incorrect_y_pred = y_pred[y_pred != y_valid]\n",
    "incorrect_y_valid = y_valid[y_pred != y_valid]\n",
    "\n",
    "# Print incorrectly predicted reviews\n",
    "for i, row in enumerate(incorrect_rows):\n",
    "    print(f\"Incorrect prediction {i+1}:\")\n",
    "    print(f\"  Actual label: {incorrect_y_valid.iloc[i]}\")\n",
    "    print(f\"  Predicted label: {incorrect_y_pred[i]}\")\n",
    "    print(f\"         Review: {vectorizer.inverse_transform(row)[0]}\\n\")"
   ]
  },
  {
   "cell_type": "markdown",
   "id": "299946c2",
   "metadata": {},
   "source": [
    "### Test Data"
   ]
  },
  {
   "cell_type": "code",
   "execution_count": 124,
   "id": "58641a34",
   "metadata": {},
   "outputs": [],
   "source": [
    "# Loading the data\n",
    "test_df = pd.read_csv('Test.csv')\n",
    "\n",
    "# Preprocessing the test data\n",
    "preprocessed_test = test_df['Review'].apply(preprocess_text)\n",
    "\n",
    "# Convert the preprocessed text into a bag-of-words matrix\n",
    "X_test = vectorizer.transform(preprocessed_test)"
   ]
  },
  {
   "cell_type": "code",
   "execution_count": 125,
   "id": "0a1330f5",
   "metadata": {},
   "outputs": [],
   "source": [
    "# Assigning the label column to y\n",
    "y_test = test_df['Sentiment']\n",
    "\n",
    "# Predictions on the test set\n",
    "y_test_pred = classifier.predict(X_test)"
   ]
  },
  {
   "cell_type": "code",
   "execution_count": 127,
   "id": "6575b17c",
   "metadata": {},
   "outputs": [
    {
     "name": "stdout",
     "output_type": "stream",
     "text": [
      "Test Accuracy: 0.745\n"
     ]
    }
   ],
   "source": [
    "# Checking the accuracy of the model\n",
    "accuracy = accuracy_score(y_test, y_test_pred)\n",
    "print(\"Test Accuracy:\", accuracy)"
   ]
  },
  {
   "cell_type": "markdown",
   "id": "b933667f",
   "metadata": {},
   "source": [
    "### Testing Using Manual Input"
   ]
  },
  {
   "cell_type": "code",
   "execution_count": 148,
   "id": "e8f6f682",
   "metadata": {},
   "outputs": [
    {
     "name": "stdout",
     "output_type": "stream",
     "text": [
      "Negative review\n"
     ]
    }
   ],
   "source": [
    "# Preprocess the input text\n",
    "input_text = \"I hate this product.\"\n",
    "preprocessed_text = preprocess_text(input_text)\n",
    "\n",
    "# Convert the preprocessed text into a bag-of-words matrix\n",
    "X_input = vectorizer.transform([preprocessed_text])\n",
    "\n",
    "# Get the predicted sentiment of the input text\n",
    "predicted_sentiment = classifier.predict(X_input)\n",
    "\n",
    "if predicted_sentiment == 1:\n",
    "    print(\"Positive review\")\n",
    "else:\n",
    "    print(\"Negative review\")"
   ]
  },
  {
   "cell_type": "code",
   "execution_count": null,
   "id": "8cc5966e",
   "metadata": {},
   "outputs": [],
   "source": []
  }
 ],
 "metadata": {
  "kernelspec": {
   "display_name": "Python 3 (ipykernel)",
   "language": "python",
   "name": "python3"
  },
  "language_info": {
   "codemirror_mode": {
    "name": "ipython",
    "version": 3
   },
   "file_extension": ".py",
   "mimetype": "text/x-python",
   "name": "python",
   "nbconvert_exporter": "python",
   "pygments_lexer": "ipython3",
   "version": "3.9.12"
  }
 },
 "nbformat": 4,
 "nbformat_minor": 5
}
